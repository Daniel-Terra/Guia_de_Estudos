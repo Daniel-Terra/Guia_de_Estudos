{
 "cells": [
  {
   "cell_type": "markdown",
   "metadata": {},
   "source": [
    "# PANDAS"
   ]
  },
  {
   "cell_type": "code",
   "execution_count": 1,
   "metadata": {},
   "outputs": [],
   "source": [
    "import numpy as np\n",
    "import pandas as pd"
   ]
  },
  {
   "cell_type": "markdown",
   "metadata": {},
   "source": [
    "Criando uma Série, fazendo com que o pandas liste esses valores em índices inteiros"
   ]
  },
  {
   "cell_type": "code",
   "execution_count": 2,
   "metadata": {},
   "outputs": [
    {
     "data": {
      "text/plain": [
       "0    1.0\n",
       "1    NaN\n",
       "2    6.0\n",
       "3    5.0\n",
       "dtype: float32"
      ]
     },
     "execution_count": 2,
     "metadata": {},
     "output_type": "execute_result"
    }
   ],
   "source": [
    "#pd.Series(x, index=list(range(x)), dtype='float32,int32')\n",
    "Série = pd.Series( [1,np.nan,6,5], dtype='float32' )\n",
    "Série"
   ]
  },
  {
   "cell_type": "markdown",
   "metadata": {},
   "source": [
    "Criando um Array com NumPy"
   ]
  },
  {
   "cell_type": "code",
   "execution_count": 3,
   "metadata": {},
   "outputs": [
    {
     "data": {
      "text/plain": [
       "array([ 2,  3,  4, 34])"
      ]
     },
     "execution_count": 3,
     "metadata": {},
     "output_type": "execute_result"
    }
   ],
   "source": [
    "#np.array([x], dtype='float32,int32')\n",
    "Array = np.array( [ 2, 3, 4.8, '34' ], dtype='int32' )\n",
    "Array"
   ]
  },
  {
   "cell_type": "markdown",
   "metadata": {},
   "source": [
    "Criando uma Categoria com pandas"
   ]
  },
  {
   "cell_type": "code",
   "execution_count": 4,
   "metadata": {},
   "outputs": [
    {
     "data": {
      "text/plain": [
       "[test, train, test, train]\n",
       "Categories (2, object): [test, train]"
      ]
     },
     "execution_count": 4,
     "metadata": {},
     "output_type": "execute_result"
    }
   ],
   "source": [
    "Categoria = pd.Categorical([\"test\", \"train\", \"test\", \"train\"])\n",
    "Categoria"
   ]
  },
  {
   "cell_type": "markdown",
   "metadata": {},
   "source": [
    "Criando um Tempo com pandas"
   ]
  },
  {
   "cell_type": "code",
   "execution_count": 5,
   "metadata": {},
   "outputs": [
    {
     "data": {
      "text/plain": [
       "Timestamp('2019-08-14 17:58:37.543455')"
      ]
     },
     "execution_count": 5,
     "metadata": {},
     "output_type": "execute_result"
    }
   ],
   "source": [
    "#Também é possível: Tempo = pd.Timestamp(1, unit='s')\n",
    "Tempo = pd.Timestamp(2019,8,14,17,58,37,543455)\n",
    "Tempo"
   ]
  },
  {
   "cell_type": "markdown",
   "metadata": {},
   "source": [
    "Criando um DataFrame, ou seja, uma Tabela, com índices inteiros, e colunas nomeadas"
   ]
  },
  {
   "cell_type": "code",
   "execution_count": 6,
   "metadata": {},
   "outputs": [
    {
     "data": {
      "text/html": [
       "<div>\n",
       "<style scoped>\n",
       "    .dataframe tbody tr th:only-of-type {\n",
       "        vertical-align: middle;\n",
       "    }\n",
       "\n",
       "    .dataframe tbody tr th {\n",
       "        vertical-align: top;\n",
       "    }\n",
       "\n",
       "    .dataframe thead th {\n",
       "        text-align: right;\n",
       "    }\n",
       "</style>\n",
       "<table border=\"1\" class=\"dataframe\">\n",
       "  <thead>\n",
       "    <tr style=\"text-align: right;\">\n",
       "      <th></th>\n",
       "      <th>Série</th>\n",
       "      <th>Array</th>\n",
       "      <th>Categoria</th>\n",
       "      <th>Tempo (Y-M-D H:M:S.MS)</th>\n",
       "      <th>Objeto</th>\n",
       "      <th>Tipo</th>\n",
       "    </tr>\n",
       "  </thead>\n",
       "  <tbody>\n",
       "    <tr>\n",
       "      <th>A</th>\n",
       "      <td>NaN</td>\n",
       "      <td>2</td>\n",
       "      <td>test</td>\n",
       "      <td>2019-08-14 17:58:37.543455</td>\n",
       "      <td>olá</td>\n",
       "      <td>Mulher</td>\n",
       "    </tr>\n",
       "    <tr>\n",
       "      <th>B</th>\n",
       "      <td>NaN</td>\n",
       "      <td>3</td>\n",
       "      <td>train</td>\n",
       "      <td>2019-08-14 17:58:37.543455</td>\n",
       "      <td>olá</td>\n",
       "      <td>Homem</td>\n",
       "    </tr>\n",
       "    <tr>\n",
       "      <th>C</th>\n",
       "      <td>NaN</td>\n",
       "      <td>4</td>\n",
       "      <td>test</td>\n",
       "      <td>2019-08-14 17:58:37.543455</td>\n",
       "      <td>olá</td>\n",
       "      <td>Mulher</td>\n",
       "    </tr>\n",
       "    <tr>\n",
       "      <th>D</th>\n",
       "      <td>NaN</td>\n",
       "      <td>34</td>\n",
       "      <td>train</td>\n",
       "      <td>2019-08-14 17:58:37.543455</td>\n",
       "      <td>olá</td>\n",
       "      <td>Indefinido</td>\n",
       "    </tr>\n",
       "  </tbody>\n",
       "</table>\n",
       "</div>"
      ],
      "text/plain": [
       "   Série  Array Categoria     Tempo (Y-M-D H:M:S.MS) Objeto        Tipo\n",
       "A    NaN      2      test 2019-08-14 17:58:37.543455    olá      Mulher\n",
       "B    NaN      3     train 2019-08-14 17:58:37.543455    olá       Homem\n",
       "C    NaN      4      test 2019-08-14 17:58:37.543455    olá      Mulher\n",
       "D    NaN     34     train 2019-08-14 17:58:37.543455    olá  Indefinido"
      ]
     },
     "execution_count": 6,
     "metadata": {},
     "output_type": "execute_result"
    }
   ],
   "source": [
    "# Veja os tipos de dados que podem ser aferidos\n",
    "# >> index por padrão é a contagem das linhas em inteiros\n",
    "\n",
    "Dados_da_tabela = ({\n",
    "    'Série': Série,\n",
    "    'Array': Array,\n",
    "    'Categoria': Categoria,\n",
    "    'Tempo (Y-M-D H:M:S.MS)': Tempo,\n",
    "    'Objeto': 'olá'\n",
    "})\n",
    "\n",
    "DataFrame = pd.DataFrame(Dados_da_tabela, index=('A','B','C','D'))\n",
    "\n",
    "DataFrame['Tipo'] = ['Mulher', 'Homem', 'Mulher','Indefinido']\n",
    "\n",
    "DataFrame"
   ]
  },
  {
   "cell_type": "code",
   "execution_count": 7,
   "metadata": {},
   "outputs": [
    {
     "data": {
      "text/plain": [
       "Série                            float32\n",
       "Array                              int32\n",
       "Categoria                       category\n",
       "Tempo (Y-M-D H:M:S.MS)    datetime64[ns]\n",
       "Objeto                            object\n",
       "Tipo                              object\n",
       "dtype: object"
      ]
     },
     "execution_count": 7,
     "metadata": {},
     "output_type": "execute_result"
    }
   ],
   "source": [
    "DataFrame.dtypes"
   ]
  },
  {
   "cell_type": "code",
   "execution_count": 8,
   "metadata": {},
   "outputs": [
    {
     "data": {
      "text/html": [
       "<div>\n",
       "<style scoped>\n",
       "    .dataframe tbody tr th:only-of-type {\n",
       "        vertical-align: middle;\n",
       "    }\n",
       "\n",
       "    .dataframe tbody tr th {\n",
       "        vertical-align: top;\n",
       "    }\n",
       "\n",
       "    .dataframe thead th {\n",
       "        text-align: right;\n",
       "    }\n",
       "</style>\n",
       "<table border=\"1\" class=\"dataframe\">\n",
       "  <thead>\n",
       "    <tr style=\"text-align: right;\">\n",
       "      <th></th>\n",
       "      <th>Série</th>\n",
       "      <th>Array</th>\n",
       "      <th>Categoria</th>\n",
       "      <th>Tempo (Y-M-D H:M:S.MS)</th>\n",
       "      <th>Objeto</th>\n",
       "      <th>Tipo</th>\n",
       "    </tr>\n",
       "  </thead>\n",
       "  <tbody>\n",
       "    <tr>\n",
       "      <th>A</th>\n",
       "      <td>NaN</td>\n",
       "      <td>2</td>\n",
       "      <td>test</td>\n",
       "      <td>2019-08-14 17:58:37.543455</td>\n",
       "      <td>olá</td>\n",
       "      <td>Mulher</td>\n",
       "    </tr>\n",
       "    <tr>\n",
       "      <th>B</th>\n",
       "      <td>NaN</td>\n",
       "      <td>3</td>\n",
       "      <td>train</td>\n",
       "      <td>2019-08-14 17:58:37.543455</td>\n",
       "      <td>olá</td>\n",
       "      <td>Homem</td>\n",
       "    </tr>\n",
       "    <tr>\n",
       "      <th>C</th>\n",
       "      <td>NaN</td>\n",
       "      <td>4</td>\n",
       "      <td>test</td>\n",
       "      <td>2019-08-14 17:58:37.543455</td>\n",
       "      <td>olá</td>\n",
       "      <td>Mulher</td>\n",
       "    </tr>\n",
       "    <tr>\n",
       "      <th>D</th>\n",
       "      <td>NaN</td>\n",
       "      <td>34</td>\n",
       "      <td>train</td>\n",
       "      <td>2019-08-14 17:58:37.543455</td>\n",
       "      <td>olá</td>\n",
       "      <td>Indefinido</td>\n",
       "    </tr>\n",
       "  </tbody>\n",
       "</table>\n",
       "</div>"
      ],
      "text/plain": [
       "   Série  Array Categoria     Tempo (Y-M-D H:M:S.MS) Objeto        Tipo\n",
       "A    NaN      2      test 2019-08-14 17:58:37.543455    olá      Mulher\n",
       "B    NaN      3     train 2019-08-14 17:58:37.543455    olá       Homem\n",
       "C    NaN      4      test 2019-08-14 17:58:37.543455    olá      Mulher\n",
       "D    NaN     34     train 2019-08-14 17:58:37.543455    olá  Indefinido"
      ]
     },
     "execution_count": 8,
     "metadata": {},
     "output_type": "execute_result"
    }
   ],
   "source": [
    "### DataFrame.head()\n",
    "DataFrame.tail()\n",
    "DataFrame.index #lista de indice\n",
    "DataFrame.columns #colunas, nomes\n",
    "DataFrame.to_numpy #tudo torna-se objeto\n",
    "DataFrame.T #transpõe a tabela\n",
    "DataFrame.sort_index(axis=1, ascending=True) #ordenar pelos eixos\n",
    "DataFrame.sort_values(by='Array') #ordenar pelos valores de alguma coluna\n",
    "DataFrame['Array'] #array dos valores da coluna\n",
    "DataFrame[0:2] #corta para as x linhas\n",
    "DataFrame['B':'D'] #corta para as linhas dentre as chamadas pelo slicer\n",
    "#Resumindo :: DataFrame[Linha][Coluna]\n",
    "DataFrame.loc[ ['B', 'D'], ['Série', 'Array'] ] #localiza as células pelas str das linhas e colunas\n",
    "DataFrame.iloc[ [1,3], :2] #localiza as células pela int das linhas e colunas\n",
    "DataFrame[DataFrame.Categoria == 'test'] #localiza as células pelo booleano se verdadeiro\n",
    "DataFrame[DataFrame['Tipo'].isin(['Mulher', 'Homem'])] #localiza as células se tal coluna tiver tais atributos\n",
    "DataFrame"
   ]
  },
  {
   "cell_type": "code",
   "execution_count": 9,
   "metadata": {},
   "outputs": [
    {
     "data": {
      "text/html": [
       "<div>\n",
       "<style scoped>\n",
       "    .dataframe tbody tr th:only-of-type {\n",
       "        vertical-align: middle;\n",
       "    }\n",
       "\n",
       "    .dataframe tbody tr th {\n",
       "        vertical-align: top;\n",
       "    }\n",
       "\n",
       "    .dataframe thead th {\n",
       "        text-align: right;\n",
       "    }\n",
       "</style>\n",
       "<table border=\"1\" class=\"dataframe\">\n",
       "  <thead>\n",
       "    <tr style=\"text-align: right;\">\n",
       "      <th></th>\n",
       "      <th>Série</th>\n",
       "      <th>Array</th>\n",
       "      <th>Categoria</th>\n",
       "      <th>Tempo (Y-M-D H:M:S.MS)</th>\n",
       "      <th>Objeto</th>\n",
       "      <th>Tipo</th>\n",
       "    </tr>\n",
       "  </thead>\n",
       "  <tbody>\n",
       "    <tr>\n",
       "      <th>A</th>\n",
       "      <td>5</td>\n",
       "      <td>2</td>\n",
       "      <td>test</td>\n",
       "      <td>2019-08-14 17:58:37.543455</td>\n",
       "      <td>bom dia</td>\n",
       "      <td>Mulher</td>\n",
       "    </tr>\n",
       "    <tr>\n",
       "      <th>B</th>\n",
       "      <td>5</td>\n",
       "      <td>3</td>\n",
       "      <td>train</td>\n",
       "      <td>2019-08-14 17:58:37.543455</td>\n",
       "      <td>olá</td>\n",
       "      <td>Homem</td>\n",
       "    </tr>\n",
       "    <tr>\n",
       "      <th>C</th>\n",
       "      <td>5</td>\n",
       "      <td>4</td>\n",
       "      <td>test</td>\n",
       "      <td>2019-08-14 17:58:37.543455</td>\n",
       "      <td>bom dia</td>\n",
       "      <td>Mulher</td>\n",
       "    </tr>\n",
       "    <tr>\n",
       "      <th>D</th>\n",
       "      <td>5</td>\n",
       "      <td>34</td>\n",
       "      <td>train</td>\n",
       "      <td>2019-08-14 17:58:37.543455</td>\n",
       "      <td>olá</td>\n",
       "      <td>Indefinido</td>\n",
       "    </tr>\n",
       "  </tbody>\n",
       "</table>\n",
       "</div>"
      ],
      "text/plain": [
       "   Série  Array Categoria     Tempo (Y-M-D H:M:S.MS)   Objeto        Tipo\n",
       "A      5      2      test 2019-08-14 17:58:37.543455  bom dia      Mulher\n",
       "B      5      3     train 2019-08-14 17:58:37.543455      olá       Homem\n",
       "C      5      4      test 2019-08-14 17:58:37.543455  bom dia      Mulher\n",
       "D      5     34     train 2019-08-14 17:58:37.543455      olá  Indefinido"
      ]
     },
     "execution_count": 9,
     "metadata": {},
     "output_type": "execute_result"
    }
   ],
   "source": [
    "DataFrame.at['A', 'Objeto'] = 'bom dia' #atualiza o valor da célula pelas str das linhas e colunas\n",
    "DataFrame.iat[2, 4] = 'bom dia' #atualiza o valor da célula pela int das linhas e colunas\n",
    "DataFrame.loc[:, 'Série'] = np.array([5] * len(DataFrame)) #atualiza os valores da coluna por um Array\n",
    "DataFrame"
   ]
  },
  {
   "cell_type": "code",
   "execution_count": 10,
   "metadata": {},
   "outputs": [
    {
     "data": {
      "text/html": [
       "<div>\n",
       "<style scoped>\n",
       "    .dataframe tbody tr th:only-of-type {\n",
       "        vertical-align: middle;\n",
       "    }\n",
       "\n",
       "    .dataframe tbody tr th {\n",
       "        vertical-align: top;\n",
       "    }\n",
       "\n",
       "    .dataframe thead th {\n",
       "        text-align: right;\n",
       "    }\n",
       "</style>\n",
       "<table border=\"1\" class=\"dataframe\">\n",
       "  <thead>\n",
       "    <tr style=\"text-align: right;\">\n",
       "      <th></th>\n",
       "      <th>Série</th>\n",
       "      <th>Array</th>\n",
       "    </tr>\n",
       "  </thead>\n",
       "  <tbody>\n",
       "    <tr>\n",
       "      <th>count</th>\n",
       "      <td>4.0</td>\n",
       "      <td>4.00000</td>\n",
       "    </tr>\n",
       "    <tr>\n",
       "      <th>mean</th>\n",
       "      <td>5.0</td>\n",
       "      <td>10.75000</td>\n",
       "    </tr>\n",
       "    <tr>\n",
       "      <th>std</th>\n",
       "      <td>0.0</td>\n",
       "      <td>15.52149</td>\n",
       "    </tr>\n",
       "    <tr>\n",
       "      <th>min</th>\n",
       "      <td>5.0</td>\n",
       "      <td>2.00000</td>\n",
       "    </tr>\n",
       "    <tr>\n",
       "      <th>25%</th>\n",
       "      <td>5.0</td>\n",
       "      <td>2.75000</td>\n",
       "    </tr>\n",
       "    <tr>\n",
       "      <th>50%</th>\n",
       "      <td>5.0</td>\n",
       "      <td>3.50000</td>\n",
       "    </tr>\n",
       "    <tr>\n",
       "      <th>75%</th>\n",
       "      <td>5.0</td>\n",
       "      <td>11.50000</td>\n",
       "    </tr>\n",
       "    <tr>\n",
       "      <th>max</th>\n",
       "      <td>5.0</td>\n",
       "      <td>34.00000</td>\n",
       "    </tr>\n",
       "  </tbody>\n",
       "</table>\n",
       "</div>"
      ],
      "text/plain": [
       "       Série     Array\n",
       "count    4.0   4.00000\n",
       "mean     5.0  10.75000\n",
       "std      0.0  15.52149\n",
       "min      5.0   2.00000\n",
       "25%      5.0   2.75000\n",
       "50%      5.0   3.50000\n",
       "75%      5.0  11.50000\n",
       "max      5.0  34.00000"
      ]
     },
     "execution_count": 10,
     "metadata": {},
     "output_type": "execute_result"
    }
   ],
   "source": [
    "DataFrame.describe() #estudo estatístico rápido"
   ]
  },
  {
   "cell_type": "code",
   "execution_count": 11,
   "metadata": {},
   "outputs": [
    {
     "data": {
      "text/plain": [
       "A     3.5\n",
       "B     4.0\n",
       "C     4.5\n",
       "D    19.5\n",
       "dtype: float64"
      ]
     },
     "execution_count": 11,
     "metadata": {},
     "output_type": "execute_result"
    }
   ],
   "source": [
    "DataFrame.mean(0) #faz a média (float) para as colunas\n",
    "DataFrame.mean(1) #faz a média (float) para as linhas"
   ]
  },
  {
   "cell_type": "code",
   "execution_count": 12,
   "metadata": {},
   "outputs": [
    {
     "data": {
      "text/html": [
       "<div>\n",
       "<style scoped>\n",
       "    .dataframe tbody tr th:only-of-type {\n",
       "        vertical-align: middle;\n",
       "    }\n",
       "\n",
       "    .dataframe tbody tr th {\n",
       "        vertical-align: top;\n",
       "    }\n",
       "\n",
       "    .dataframe thead th {\n",
       "        text-align: right;\n",
       "    }\n",
       "</style>\n",
       "<table border=\"1\" class=\"dataframe\">\n",
       "  <thead>\n",
       "    <tr style=\"text-align: right;\">\n",
       "      <th></th>\n",
       "      <th>Série</th>\n",
       "      <th>Array</th>\n",
       "    </tr>\n",
       "  </thead>\n",
       "  <tbody>\n",
       "    <tr>\n",
       "      <th>A</th>\n",
       "      <td>5</td>\n",
       "      <td>2</td>\n",
       "    </tr>\n",
       "    <tr>\n",
       "      <th>B</th>\n",
       "      <td>10</td>\n",
       "      <td>5</td>\n",
       "    </tr>\n",
       "    <tr>\n",
       "      <th>C</th>\n",
       "      <td>15</td>\n",
       "      <td>9</td>\n",
       "    </tr>\n",
       "    <tr>\n",
       "      <th>D</th>\n",
       "      <td>20</td>\n",
       "      <td>43</td>\n",
       "    </tr>\n",
       "  </tbody>\n",
       "</table>\n",
       "</div>"
      ],
      "text/plain": [
       "   Série  Array\n",
       "A      5      2\n",
       "B     10      5\n",
       "C     15      9\n",
       "D     20     43"
      ]
     },
     "execution_count": 12,
     "metadata": {},
     "output_type": "execute_result"
    }
   ],
   "source": [
    "DataFrame_int = DataFrame.loc[:,['Série','Array']]\n",
    "DataFrame_int.apply(np.cumsum) #soma a anterior à seguinte (os valores devem ser numéricos!)"
   ]
  },
  {
   "cell_type": "markdown",
   "metadata": {},
   "source": [
    "Fazer um histograma: (rever isso!)"
   ]
  },
  {
   "cell_type": "code",
   "execution_count": 13,
   "metadata": {},
   "outputs": [
    {
     "data": {
      "text/plain": [
       "10    110\n",
       "6     107\n",
       "1      96\n",
       "5      93\n",
       "2      93\n",
       "8      92\n",
       "3      89\n",
       "0      84\n",
       "7      82\n",
       "4      82\n",
       "9      72\n",
       "dtype: int64"
      ]
     },
     "execution_count": 13,
     "metadata": {},
     "output_type": "execute_result"
    }
   ],
   "source": [
    "Série_numérica = pd.Series(np.random.randint(0, 11, size=1000))\n",
    "Série_numérica.value_counts(False)"
   ]
  },
  {
   "cell_type": "code",
   "execution_count": null,
   "metadata": {},
   "outputs": [],
   "source": []
  }
 ],
 "metadata": {
  "kernelspec": {
   "display_name": "Python 3",
   "language": "python",
   "name": "python3"
  },
  "language_info": {
   "codemirror_mode": {
    "name": "ipython",
    "version": 3
   },
   "file_extension": ".py",
   "mimetype": "text/x-python",
   "name": "python",
   "nbconvert_exporter": "python",
   "pygments_lexer": "ipython3",
   "version": "3.7.3"
  }
 },
 "nbformat": 4,
 "nbformat_minor": 2
}
