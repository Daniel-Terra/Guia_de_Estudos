{
 "cells": [
  {
   "cell_type": "markdown",
   "metadata": {},
   "source": [
    "# CODING DE CIÊNCIA DOS DADOS\n",
    "___"
   ]
  },
  {
   "cell_type": "markdown",
   "metadata": {},
   "source": [
    "<a id='Sumario'></a>\n",
    "### Sumário\n",
    "**[1. Análise Exploratória](#Analise_Exploratoria)<br>**\n",
    "&nbsp;&nbsp;&nbsp;[1.1. Lendo um arquivo](#Lendo_Arquivo)<br>\n",
    "&nbsp;&nbsp;&nbsp;[1.2. Apresentando a tabela](#Apresenta_Tabela)<br>\n",
    "&nbsp;&nbsp;&nbsp;[1.3. Checando o tipo de cada coluna](#Tipo_Coluna)<br>\n",
    "&nbsp;&nbsp;&nbsp;[1.4. Visualizando colunas específicas](#Cols_Especificas)<br>\n",
    "&nbsp;&nbsp;&nbsp;[1.5. Transformando coluna em índice](#Col_to_index)<br>\n",
    "&nbsp;&nbsp;&nbsp;[1.6. Filtragem do DataFrame dada uma condição](#Filtro_condicao)<br>\n",
    "&nbsp;&nbsp;&nbsp;[1.7. Ordenando valores](#Ordenar)<br>\n",
    "&nbsp;&nbsp;&nbsp;[1.8. Criando categorias](#Categorizacao)<br>\n",
    "&nbsp;&nbsp;&nbsp;[1.9. Contando valores de uma variável qualitativa](#count)<br>\n",
    "&nbsp;&nbsp;&nbsp;[1.10. Normalizando a contagem](#normalizar)<br>\n",
    "&nbsp;&nbsp;&nbsp;[1.11. Discretizando uma variável quantitativa](#discretizar)<br>\n",
    "&nbsp;&nbsp;&nbsp;[1.12. Cruzando variáveis discretas](#cruzar)<br>\n",
    "&nbsp;&nbsp;&nbsp;[1.13. Plotando o gráfico da crosstab](#plot)<br>\n",
    "&nbsp;&nbsp;&nbsp;[1.14. Normalizando a crosstab](#normalizar_crosstab)<br>\n",
    "&nbsp;&nbsp;&nbsp;[1.15. Descrevendo uma variável quantitativa](#describe)<br>\n",
    "&nbsp;&nbsp;&nbsp;[1.16. Correlação entre duas colunas](#correlacao)<br>\n",
    "&nbsp;&nbsp;&nbsp;[1.17. Juntando 2 DataFrames diferentes](#join)<br>\n",
    "&nbsp;&nbsp;&nbsp;[1.18. Filtrando por quantil](#quantil)<br>\n",
    "&nbsp;&nbsp;&nbsp;[1.19. Boxplot](#boxplot)<br>\n",
    "&nbsp;&nbsp;&nbsp;[1.20. Boxplot com agrupamento](#boxplot_agrupamento)<br>\n",
    "&nbsp;&nbsp;&nbsp;[1.21. Histograma de densidade](#histograma_densidade)<br>\n",
    "&nbsp;&nbsp;&nbsp;[1.22. Analisando duas variáveis](#duas_variaveis)<br>\n",
    "\n",
    "**[2. Modelos Probabilísticos](#Analise_Exploratoria)<br>**\n",
    "&nbsp;&nbsp;&nbsp;[2.1. Exercícios Normal](#exercicios)<br>\n",
    "&nbsp;&nbsp;&nbsp;[2.2. Construindo as curvas e gerando amostras aleatórias](#curvas_amostras)<br>\n",
    "&nbsp;&nbsp;&nbsp;[2.3. Construindo as curvas e gerando amostras aleatórias](#duas_variaveis)<br>"
   ]
  },
  {
   "cell_type": "markdown",
   "metadata": {},
   "source": [
    "## Bibliotecas"
   ]
  },
  {
   "cell_type": "code",
   "execution_count": 67,
   "metadata": {},
   "outputs": [],
   "source": [
    "import pandas as pd\n",
    "from scipy import stats\n",
    "import matplotlib.pyplot as plt\n",
    "import numpy as np\n",
    "import itertools\n",
    "import seaborn as sns\n",
    "from random import randint\n",
    "%matplotlib inline"
   ]
  },
  {
   "cell_type": "markdown",
   "metadata": {},
   "source": [
    "<a id=\"Analise_Exploratoria\"></a>\n",
    "## Análise exploratória"
   ]
  },
  {
   "cell_type": "markdown",
   "metadata": {},
   "source": [
    "<a id='Lendo_Arquivo'></a>\n",
    "**Lendo um arquivo:**"
   ]
  },
  {
   "cell_type": "code",
   "execution_count": 2,
   "metadata": {},
   "outputs": [],
   "source": [
    "df = pd.read_excel('WorldBank.xlsx')"
   ]
  },
  {
   "cell_type": "markdown",
   "metadata": {},
   "source": [
    "&nbsp;&nbsp;&nbsp;[Sumário](#Sumario)<br>"
   ]
  },
  {
   "cell_type": "markdown",
   "metadata": {},
   "source": [
    "<a id=\"Apresenta_Tabela\"></a>\n",
    "**Apresentando a tabela:**"
   ]
  },
  {
   "cell_type": "code",
   "execution_count": 3,
   "metadata": {},
   "outputs": [
    {
     "data": {
      "text/html": [
       "<div>\n",
       "<style scoped>\n",
       "    .dataframe tbody tr th:only-of-type {\n",
       "        vertical-align: middle;\n",
       "    }\n",
       "\n",
       "    .dataframe tbody tr th {\n",
       "        vertical-align: top;\n",
       "    }\n",
       "\n",
       "    .dataframe thead th {\n",
       "        text-align: right;\n",
       "    }\n",
       "</style>\n",
       "<table border=\"1\" class=\"dataframe\">\n",
       "  <thead>\n",
       "    <tr style=\"text-align: right;\">\n",
       "      <th></th>\n",
       "      <th>Country</th>\n",
       "      <th>Population</th>\n",
       "      <th>GDPcapita</th>\n",
       "      <th>surface</th>\n",
       "      <th>region</th>\n",
       "      <th>landlocked</th>\n",
       "    </tr>\n",
       "  </thead>\n",
       "  <tbody>\n",
       "    <tr>\n",
       "      <th>0</th>\n",
       "      <td>Albania</td>\n",
       "      <td>2901883</td>\n",
       "      <td>1915.424459</td>\n",
       "      <td>28750</td>\n",
       "      <td>europe_east</td>\n",
       "      <td>0</td>\n",
       "    </tr>\n",
       "    <tr>\n",
       "      <th>1</th>\n",
       "      <td>Algeria</td>\n",
       "      <td>36036159</td>\n",
       "      <td>2231.980246</td>\n",
       "      <td>2381740</td>\n",
       "      <td>africa_north</td>\n",
       "      <td>0</td>\n",
       "    </tr>\n",
       "    <tr>\n",
       "      <th>2</th>\n",
       "      <td>Angola</td>\n",
       "      <td>21219954</td>\n",
       "      <td>623.245275</td>\n",
       "      <td>1246700</td>\n",
       "      <td>africa_sub_saharan</td>\n",
       "      <td>0</td>\n",
       "    </tr>\n",
       "    <tr>\n",
       "      <th>3</th>\n",
       "      <td>Antigua and Barbuda</td>\n",
       "      <td>87233</td>\n",
       "      <td>10614.794315</td>\n",
       "      <td>440</td>\n",
       "      <td>america_north</td>\n",
       "      <td>0</td>\n",
       "    </tr>\n",
       "    <tr>\n",
       "      <th>4</th>\n",
       "      <td>Argentina</td>\n",
       "      <td>41222875</td>\n",
       "      <td>10749.319224</td>\n",
       "      <td>2780400</td>\n",
       "      <td>america_south</td>\n",
       "      <td>0</td>\n",
       "    </tr>\n",
       "  </tbody>\n",
       "</table>\n",
       "</div>"
      ],
      "text/plain": [
       "               Country  Population     GDPcapita  surface              region  \\\n",
       "0              Albania     2901883   1915.424459    28750         europe_east   \n",
       "1              Algeria    36036159   2231.980246  2381740        africa_north   \n",
       "2               Angola    21219954    623.245275  1246700  africa_sub_saharan   \n",
       "3  Antigua and Barbuda       87233  10614.794315      440       america_north   \n",
       "4            Argentina    41222875  10749.319224  2780400       america_south   \n",
       "\n",
       "   landlocked  \n",
       "0           0  \n",
       "1           0  \n",
       "2           0  \n",
       "3           0  \n",
       "4           0  "
      ]
     },
     "execution_count": 3,
     "metadata": {},
     "output_type": "execute_result"
    }
   ],
   "source": [
    "df.head(5)\n",
    "# head(n) mostra as n primeiras linhas da tabela\n",
    "# tail(n) mostra as n ultimas linhas da tabela"
   ]
  },
  {
   "cell_type": "markdown",
   "metadata": {},
   "source": [
    "&nbsp;&nbsp;&nbsp;[Sumário](#Sumario)<br>"
   ]
  },
  {
   "cell_type": "markdown",
   "metadata": {},
   "source": [
    "<a id=\"Tipo_Coluna\"></a>\n",
    "**Checando o tipo de cada coluna:**"
   ]
  },
  {
   "cell_type": "code",
   "execution_count": 4,
   "metadata": {},
   "outputs": [
    {
     "data": {
      "text/plain": [
       "Country        object\n",
       "Population      int64\n",
       "GDPcapita     float64\n",
       "surface         int64\n",
       "region         object\n",
       "landlocked      int64\n",
       "dtype: object"
      ]
     },
     "execution_count": 4,
     "metadata": {},
     "output_type": "execute_result"
    }
   ],
   "source": [
    "df.dtypes"
   ]
  },
  {
   "cell_type": "markdown",
   "metadata": {},
   "source": [
    "&nbsp;&nbsp;&nbsp;[Sumário](#Sumario)<br>"
   ]
  },
  {
   "cell_type": "markdown",
   "metadata": {},
   "source": [
    "<a id=\"Cols_Especificas\"></a>\n",
    "**Visualizando colunas específicas:**"
   ]
  },
  {
   "cell_type": "code",
   "execution_count": 5,
   "metadata": {},
   "outputs": [
    {
     "data": {
      "text/plain": [
       "163      Vanuatu\n",
       "164    Venezuela\n",
       "165      Vietnam\n",
       "166       Zambia\n",
       "167     Zimbabwe\n",
       "Name: Country, dtype: object"
      ]
     },
     "execution_count": 5,
     "metadata": {},
     "output_type": "execute_result"
    }
   ],
   "source": [
    "df['Country'].tail(5)"
   ]
  },
  {
   "cell_type": "markdown",
   "metadata": {},
   "source": [
    "&nbsp;&nbsp;&nbsp;[Sumário](#Sumario)<br>"
   ]
  },
  {
   "cell_type": "markdown",
   "metadata": {},
   "source": [
    "<a id=\"Col_to_index\"></a>\n",
    "**Transformando coluna em indice:**"
   ]
  },
  {
   "cell_type": "code",
   "execution_count": 6,
   "metadata": {},
   "outputs": [
    {
     "data": {
      "text/html": [
       "<div>\n",
       "<style scoped>\n",
       "    .dataframe tbody tr th:only-of-type {\n",
       "        vertical-align: middle;\n",
       "    }\n",
       "\n",
       "    .dataframe tbody tr th {\n",
       "        vertical-align: top;\n",
       "    }\n",
       "\n",
       "    .dataframe thead th {\n",
       "        text-align: right;\n",
       "    }\n",
       "</style>\n",
       "<table border=\"1\" class=\"dataframe\">\n",
       "  <thead>\n",
       "    <tr style=\"text-align: right;\">\n",
       "      <th></th>\n",
       "      <th>Population</th>\n",
       "      <th>GDPcapita</th>\n",
       "      <th>surface</th>\n",
       "      <th>region</th>\n",
       "      <th>landlocked</th>\n",
       "    </tr>\n",
       "    <tr>\n",
       "      <th>Country</th>\n",
       "      <th></th>\n",
       "      <th></th>\n",
       "      <th></th>\n",
       "      <th></th>\n",
       "      <th></th>\n",
       "    </tr>\n",
       "  </thead>\n",
       "  <tbody>\n",
       "    <tr>\n",
       "      <th>Albania</th>\n",
       "      <td>2901883</td>\n",
       "      <td>1915.424459</td>\n",
       "      <td>28750</td>\n",
       "      <td>europe_east</td>\n",
       "      <td>0</td>\n",
       "    </tr>\n",
       "    <tr>\n",
       "      <th>Algeria</th>\n",
       "      <td>36036159</td>\n",
       "      <td>2231.980246</td>\n",
       "      <td>2381740</td>\n",
       "      <td>africa_north</td>\n",
       "      <td>0</td>\n",
       "    </tr>\n",
       "    <tr>\n",
       "      <th>Angola</th>\n",
       "      <td>21219954</td>\n",
       "      <td>623.245275</td>\n",
       "      <td>1246700</td>\n",
       "      <td>africa_sub_saharan</td>\n",
       "      <td>0</td>\n",
       "    </tr>\n",
       "    <tr>\n",
       "      <th>Antigua and Barbuda</th>\n",
       "      <td>87233</td>\n",
       "      <td>10614.794315</td>\n",
       "      <td>440</td>\n",
       "      <td>america_north</td>\n",
       "      <td>0</td>\n",
       "    </tr>\n",
       "    <tr>\n",
       "      <th>Argentina</th>\n",
       "      <td>41222875</td>\n",
       "      <td>10749.319224</td>\n",
       "      <td>2780400</td>\n",
       "      <td>america_south</td>\n",
       "      <td>0</td>\n",
       "    </tr>\n",
       "  </tbody>\n",
       "</table>\n",
       "</div>"
      ],
      "text/plain": [
       "                     Population     GDPcapita  surface              region  \\\n",
       "Country                                                                      \n",
       "Albania                 2901883   1915.424459    28750         europe_east   \n",
       "Algeria                36036159   2231.980246  2381740        africa_north   \n",
       "Angola                 21219954    623.245275  1246700  africa_sub_saharan   \n",
       "Antigua and Barbuda       87233  10614.794315      440       america_north   \n",
       "Argentina              41222875  10749.319224  2780400       america_south   \n",
       "\n",
       "                     landlocked  \n",
       "Country                          \n",
       "Albania                       0  \n",
       "Algeria                       0  \n",
       "Angola                        0  \n",
       "Antigua and Barbuda           0  \n",
       "Argentina                     0  "
      ]
     },
     "execution_count": 6,
     "metadata": {},
     "output_type": "execute_result"
    }
   ],
   "source": [
    "df.set_index('Country').head(5)"
   ]
  },
  {
   "cell_type": "markdown",
   "metadata": {},
   "source": [
    "&nbsp;&nbsp;&nbsp;[Sumário](#Sumario)<br>"
   ]
  },
  {
   "cell_type": "markdown",
   "metadata": {},
   "source": [
    "<a id=\"Filtro_condicao\"></a>\n",
    "**Filtragem do DataFrame dada uma condição:**"
   ]
  },
  {
   "cell_type": "code",
   "execution_count": 7,
   "metadata": {},
   "outputs": [
    {
     "data": {
      "text/html": [
       "<div>\n",
       "<style scoped>\n",
       "    .dataframe tbody tr th:only-of-type {\n",
       "        vertical-align: middle;\n",
       "    }\n",
       "\n",
       "    .dataframe tbody tr th {\n",
       "        vertical-align: top;\n",
       "    }\n",
       "\n",
       "    .dataframe thead th {\n",
       "        text-align: right;\n",
       "    }\n",
       "</style>\n",
       "<table border=\"1\" class=\"dataframe\">\n",
       "  <thead>\n",
       "    <tr style=\"text-align: right;\">\n",
       "      <th></th>\n",
       "      <th>Country</th>\n",
       "      <th>Population</th>\n",
       "      <th>GDPcapita</th>\n",
       "      <th>surface</th>\n",
       "      <th>region</th>\n",
       "      <th>landlocked</th>\n",
       "    </tr>\n",
       "  </thead>\n",
       "  <tbody>\n",
       "    <tr>\n",
       "      <th>36</th>\n",
       "      <td>Costa Rica</td>\n",
       "      <td>4545273</td>\n",
       "      <td>5226.566178</td>\n",
       "      <td>51100</td>\n",
       "      <td>america_north</td>\n",
       "      <td>0</td>\n",
       "    </tr>\n",
       "    <tr>\n",
       "      <th>67</th>\n",
       "      <td>Hungary</td>\n",
       "      <td>10014633</td>\n",
       "      <td>5633.990990</td>\n",
       "      <td>93030</td>\n",
       "      <td>europe_east</td>\n",
       "      <td>1</td>\n",
       "    </tr>\n",
       "    <tr>\n",
       "      <th>81</th>\n",
       "      <td>Latvia</td>\n",
       "      <td>2090519</td>\n",
       "      <td>5011.201551</td>\n",
       "      <td>64560</td>\n",
       "      <td>europe_east</td>\n",
       "      <td>0</td>\n",
       "    </tr>\n",
       "    <tr>\n",
       "      <th>85</th>\n",
       "      <td>Lithuania</td>\n",
       "      <td>3122835</td>\n",
       "      <td>5332.530607</td>\n",
       "      <td>65300</td>\n",
       "      <td>europe_east</td>\n",
       "      <td>0</td>\n",
       "    </tr>\n",
       "    <tr>\n",
       "      <th>90</th>\n",
       "      <td>Malaysia</td>\n",
       "      <td>28119500</td>\n",
       "      <td>5168.686016</td>\n",
       "      <td>330800</td>\n",
       "      <td>east_asia_pacific</td>\n",
       "      <td>0</td>\n",
       "    </tr>\n",
       "    <tr>\n",
       "      <th>96</th>\n",
       "      <td>Mauritius</td>\n",
       "      <td>1247951</td>\n",
       "      <td>5180.967874</td>\n",
       "      <td>2040</td>\n",
       "      <td>africa_sub_saharan</td>\n",
       "      <td>0</td>\n",
       "    </tr>\n",
       "    <tr>\n",
       "      <th>114</th>\n",
       "      <td>Palau</td>\n",
       "      <td>20470</td>\n",
       "      <td>5756.810516</td>\n",
       "      <td>460</td>\n",
       "      <td>east_asia_pacific</td>\n",
       "      <td>0</td>\n",
       "    </tr>\n",
       "    <tr>\n",
       "      <th>153</th>\n",
       "      <td>Turkey</td>\n",
       "      <td>72310416</td>\n",
       "      <td>5356.000439</td>\n",
       "      <td>783560</td>\n",
       "      <td>europe_east</td>\n",
       "      <td>0</td>\n",
       "    </tr>\n",
       "    <tr>\n",
       "      <th>164</th>\n",
       "      <td>Venezuela</td>\n",
       "      <td>28995745</td>\n",
       "      <td>5528.363114</td>\n",
       "      <td>912050</td>\n",
       "      <td>america_south</td>\n",
       "      <td>0</td>\n",
       "    </tr>\n",
       "  </tbody>\n",
       "</table>\n",
       "</div>"
      ],
      "text/plain": [
       "        Country  Population    GDPcapita  surface              region  \\\n",
       "36   Costa Rica     4545273  5226.566178    51100       america_north   \n",
       "67      Hungary    10014633  5633.990990    93030         europe_east   \n",
       "81       Latvia     2090519  5011.201551    64560         europe_east   \n",
       "85    Lithuania     3122835  5332.530607    65300         europe_east   \n",
       "90     Malaysia    28119500  5168.686016   330800   east_asia_pacific   \n",
       "96    Mauritius     1247951  5180.967874     2040  africa_sub_saharan   \n",
       "114       Palau       20470  5756.810516      460   east_asia_pacific   \n",
       "153      Turkey    72310416  5356.000439   783560         europe_east   \n",
       "164   Venezuela    28995745  5528.363114   912050       america_south   \n",
       "\n",
       "     landlocked  \n",
       "36            0  \n",
       "67            1  \n",
       "81            0  \n",
       "85            0  \n",
       "90            0  \n",
       "96            0  \n",
       "114           0  \n",
       "153           0  \n",
       "164           0  "
      ]
     },
     "execution_count": 7,
     "metadata": {},
     "output_type": "execute_result"
    }
   ],
   "source": [
    "data1 = df[df['GDPcapita'] > 5000]\n",
    "data1 = data1[data1['GDPcapita'] < 6000]\n",
    "data1"
   ]
  },
  {
   "cell_type": "markdown",
   "metadata": {},
   "source": [
    "&nbsp;&nbsp;&nbsp;[Sumário](#Sumario)<br>"
   ]
  },
  {
   "cell_type": "markdown",
   "metadata": {},
   "source": [
    "<a id=\"Ordenar\"></a>\n",
    "**Ordenando valores:**"
   ]
  },
  {
   "cell_type": "code",
   "execution_count": 8,
   "metadata": {},
   "outputs": [
    {
     "data": {
      "text/html": [
       "<div>\n",
       "<style scoped>\n",
       "    .dataframe tbody tr th:only-of-type {\n",
       "        vertical-align: middle;\n",
       "    }\n",
       "\n",
       "    .dataframe tbody tr th {\n",
       "        vertical-align: top;\n",
       "    }\n",
       "\n",
       "    .dataframe thead th {\n",
       "        text-align: right;\n",
       "    }\n",
       "</style>\n",
       "<table border=\"1\" class=\"dataframe\">\n",
       "  <thead>\n",
       "    <tr style=\"text-align: right;\">\n",
       "      <th></th>\n",
       "      <th>Country</th>\n",
       "      <th>Population</th>\n",
       "      <th>GDPcapita</th>\n",
       "      <th>surface</th>\n",
       "      <th>region</th>\n",
       "      <th>landlocked</th>\n",
       "    </tr>\n",
       "  </thead>\n",
       "  <tbody>\n",
       "    <tr>\n",
       "      <th>31</th>\n",
       "      <td>China</td>\n",
       "      <td>1340968737</td>\n",
       "      <td>2426.332466</td>\n",
       "      <td>9600000</td>\n",
       "      <td>east_asia_pacific</td>\n",
       "      <td>0</td>\n",
       "    </tr>\n",
       "    <tr>\n",
       "      <th>69</th>\n",
       "      <td>India</td>\n",
       "      <td>1230984504</td>\n",
       "      <td>794.801256</td>\n",
       "      <td>3287260</td>\n",
       "      <td>asia_west</td>\n",
       "      <td>0</td>\n",
       "    </tr>\n",
       "    <tr>\n",
       "      <th>160</th>\n",
       "      <td>United States</td>\n",
       "      <td>309876170</td>\n",
       "      <td>37329.615914</td>\n",
       "      <td>9831510</td>\n",
       "      <td>america_north</td>\n",
       "      <td>0</td>\n",
       "    </tr>\n",
       "    <tr>\n",
       "      <th>70</th>\n",
       "      <td>Indonesia</td>\n",
       "      <td>241613126</td>\n",
       "      <td>1145.385435</td>\n",
       "      <td>1904570</td>\n",
       "      <td>east_asia_pacific</td>\n",
       "      <td>0</td>\n",
       "    </tr>\n",
       "    <tr>\n",
       "      <th>20</th>\n",
       "      <td>Brazil</td>\n",
       "      <td>198614208</td>\n",
       "      <td>4716.614125</td>\n",
       "      <td>8514880</td>\n",
       "      <td>america_south</td>\n",
       "      <td>0</td>\n",
       "    </tr>\n",
       "  </tbody>\n",
       "</table>\n",
       "</div>"
      ],
      "text/plain": [
       "           Country  Population     GDPcapita  surface             region  \\\n",
       "31           China  1340968737   2426.332466  9600000  east_asia_pacific   \n",
       "69           India  1230984504    794.801256  3287260          asia_west   \n",
       "160  United States   309876170  37329.615914  9831510      america_north   \n",
       "70       Indonesia   241613126   1145.385435  1904570  east_asia_pacific   \n",
       "20          Brazil   198614208   4716.614125  8514880      america_south   \n",
       "\n",
       "     landlocked  \n",
       "31            0  \n",
       "69            0  \n",
       "160           0  \n",
       "70            0  \n",
       "20            0  "
      ]
     },
     "execution_count": 8,
     "metadata": {},
     "output_type": "execute_result"
    }
   ],
   "source": [
    "df.sort_values(by = 'Population', ascending = False).head(5)\n",
    "# ascending = True é o padrão, e ordenaria do menor para o maior"
   ]
  },
  {
   "cell_type": "markdown",
   "metadata": {},
   "source": [
    "&nbsp;&nbsp;&nbsp;[Sumário](#Sumario)<br>"
   ]
  },
  {
   "cell_type": "markdown",
   "metadata": {},
   "source": [
    "<a id=\"Categorizacao\"></a>\n",
    "**Criando categorias:**"
   ]
  },
  {
   "cell_type": "code",
   "execution_count": 9,
   "metadata": {},
   "outputs": [
    {
     "data": {
      "text/html": [
       "<div>\n",
       "<style scoped>\n",
       "    .dataframe tbody tr th:only-of-type {\n",
       "        vertical-align: middle;\n",
       "    }\n",
       "\n",
       "    .dataframe tbody tr th {\n",
       "        vertical-align: top;\n",
       "    }\n",
       "\n",
       "    .dataframe thead th {\n",
       "        text-align: right;\n",
       "    }\n",
       "</style>\n",
       "<table border=\"1\" class=\"dataframe\">\n",
       "  <thead>\n",
       "    <tr style=\"text-align: right;\">\n",
       "      <th></th>\n",
       "      <th>Country</th>\n",
       "      <th>Population</th>\n",
       "      <th>GDPcapita</th>\n",
       "      <th>surface</th>\n",
       "      <th>region</th>\n",
       "      <th>landlocked</th>\n",
       "    </tr>\n",
       "  </thead>\n",
       "  <tbody>\n",
       "    <tr>\n",
       "      <th>0</th>\n",
       "      <td>Albania</td>\n",
       "      <td>2901883</td>\n",
       "      <td>1915.424459</td>\n",
       "      <td>28750</td>\n",
       "      <td>europe_east</td>\n",
       "      <td>No</td>\n",
       "    </tr>\n",
       "    <tr>\n",
       "      <th>1</th>\n",
       "      <td>Algeria</td>\n",
       "      <td>36036159</td>\n",
       "      <td>2231.980246</td>\n",
       "      <td>2381740</td>\n",
       "      <td>africa_north</td>\n",
       "      <td>No</td>\n",
       "    </tr>\n",
       "    <tr>\n",
       "      <th>2</th>\n",
       "      <td>Angola</td>\n",
       "      <td>21219954</td>\n",
       "      <td>623.245275</td>\n",
       "      <td>1246700</td>\n",
       "      <td>africa_sub_saharan</td>\n",
       "      <td>No</td>\n",
       "    </tr>\n",
       "    <tr>\n",
       "      <th>3</th>\n",
       "      <td>Antigua and Barbuda</td>\n",
       "      <td>87233</td>\n",
       "      <td>10614.794315</td>\n",
       "      <td>440</td>\n",
       "      <td>america_north</td>\n",
       "      <td>No</td>\n",
       "    </tr>\n",
       "    <tr>\n",
       "      <th>4</th>\n",
       "      <td>Argentina</td>\n",
       "      <td>41222875</td>\n",
       "      <td>10749.319224</td>\n",
       "      <td>2780400</td>\n",
       "      <td>america_south</td>\n",
       "      <td>No</td>\n",
       "    </tr>\n",
       "  </tbody>\n",
       "</table>\n",
       "</div>"
      ],
      "text/plain": [
       "               Country  Population     GDPcapita  surface              region  \\\n",
       "0              Albania     2901883   1915.424459    28750         europe_east   \n",
       "1              Algeria    36036159   2231.980246  2381740        africa_north   \n",
       "2               Angola    21219954    623.245275  1246700  africa_sub_saharan   \n",
       "3  Antigua and Barbuda       87233  10614.794315      440       america_north   \n",
       "4            Argentina    41222875  10749.319224  2780400       america_south   \n",
       "\n",
       "  landlocked  \n",
       "0         No  \n",
       "1         No  \n",
       "2         No  \n",
       "3         No  \n",
       "4         No  "
      ]
     },
     "execution_count": 9,
     "metadata": {},
     "output_type": "execute_result"
    }
   ],
   "source": [
    "df['landlocked'] = df['landlocked'].astype('category')\n",
    "df['landlocked'].cat.categories = ('No','Yes')\n",
    "df.head(5)"
   ]
  },
  {
   "cell_type": "markdown",
   "metadata": {},
   "source": [
    "&nbsp;&nbsp;&nbsp;[Sumário](#Sumario)<br>"
   ]
  },
  {
   "cell_type": "markdown",
   "metadata": {},
   "source": [
    "<a id=\"count\"></a>\n",
    "**Contando valores de uma variável qualitativa:**"
   ]
  },
  {
   "cell_type": "code",
   "execution_count": 10,
   "metadata": {},
   "outputs": [
    {
     "data": {
      "text/plain": [
       "No     136\n",
       "Yes     32\n",
       "Name: landlocked, dtype: int64"
      ]
     },
     "execution_count": 10,
     "metadata": {},
     "output_type": "execute_result"
    }
   ],
   "source": [
    "df['landlocked'].value_counts()"
   ]
  },
  {
   "cell_type": "markdown",
   "metadata": {},
   "source": [
    "&nbsp;&nbsp;&nbsp;[Sumário](#Sumario)<br>"
   ]
  },
  {
   "cell_type": "markdown",
   "metadata": {},
   "source": [
    "<a id=\"normalizar\"></a>\n",
    "**Normalizando a contagem:**"
   ]
  },
  {
   "cell_type": "code",
   "execution_count": 11,
   "metadata": {},
   "outputs": [
    {
     "data": {
      "text/plain": [
       "No     80.952381\n",
       "Yes    19.047619\n",
       "Name: landlocked, dtype: float64"
      ]
     },
     "execution_count": 11,
     "metadata": {},
     "output_type": "execute_result"
    }
   ],
   "source": [
    "df['landlocked'].value_counts(True)*100\n",
    "# frequencia relativa * 100 = porcentagem"
   ]
  },
  {
   "cell_type": "markdown",
   "metadata": {},
   "source": [
    "&nbsp;&nbsp;&nbsp;[Sumário](#Sumario)<br>"
   ]
  },
  {
   "cell_type": "markdown",
   "metadata": {},
   "source": [
    "<a id=\"discretizar\"></a>\n",
    "**Discretizando uma variável quantitativa:**"
   ]
  },
  {
   "cell_type": "code",
   "execution_count": 12,
   "metadata": {},
   "outputs": [
    {
     "data": {
      "text/html": [
       "<div>\n",
       "<style scoped>\n",
       "    .dataframe tbody tr th:only-of-type {\n",
       "        vertical-align: middle;\n",
       "    }\n",
       "\n",
       "    .dataframe tbody tr th {\n",
       "        vertical-align: top;\n",
       "    }\n",
       "\n",
       "    .dataframe thead th {\n",
       "        text-align: right;\n",
       "    }\n",
       "</style>\n",
       "<table border=\"1\" class=\"dataframe\">\n",
       "  <thead>\n",
       "    <tr style=\"text-align: right;\">\n",
       "      <th></th>\n",
       "      <th>Country</th>\n",
       "      <th>Population</th>\n",
       "      <th>GDPcapita</th>\n",
       "      <th>surface</th>\n",
       "      <th>region</th>\n",
       "      <th>landlocked</th>\n",
       "      <th>GDPcapita_disc</th>\n",
       "    </tr>\n",
       "  </thead>\n",
       "  <tbody>\n",
       "    <tr>\n",
       "      <th>86</th>\n",
       "      <td>Luxembourg</td>\n",
       "      <td>507889</td>\n",
       "      <td>52222.576674</td>\n",
       "      <td>2590</td>\n",
       "      <td>europe_west</td>\n",
       "      <td>Yes</td>\n",
       "      <td>Super High</td>\n",
       "    </tr>\n",
       "    <tr>\n",
       "      <th>143</th>\n",
       "      <td>Switzerland</td>\n",
       "      <td>7830534</td>\n",
       "      <td>38826.842983</td>\n",
       "      <td>41280</td>\n",
       "      <td>europe_west</td>\n",
       "      <td>Yes</td>\n",
       "      <td>Very High</td>\n",
       "    </tr>\n",
       "    <tr>\n",
       "      <th>75</th>\n",
       "      <td>Japan</td>\n",
       "      <td>127319802</td>\n",
       "      <td>39971.787453</td>\n",
       "      <td>377940</td>\n",
       "      <td>east_asia_pacific</td>\n",
       "      <td>No</td>\n",
       "      <td>Very High</td>\n",
       "    </tr>\n",
       "    <tr>\n",
       "      <th>111</th>\n",
       "      <td>Norway</td>\n",
       "      <td>4891251</td>\n",
       "      <td>39970.292528</td>\n",
       "      <td>323780</td>\n",
       "      <td>europe_west</td>\n",
       "      <td>No</td>\n",
       "      <td>Very High</td>\n",
       "    </tr>\n",
       "    <tr>\n",
       "      <th>132</th>\n",
       "      <td>Singapore</td>\n",
       "      <td>5078961</td>\n",
       "      <td>32640.684416</td>\n",
       "      <td>710</td>\n",
       "      <td>east_asia_pacific</td>\n",
       "      <td>No</td>\n",
       "      <td>High</td>\n",
       "    </tr>\n",
       "  </tbody>\n",
       "</table>\n",
       "</div>"
      ],
      "text/plain": [
       "         Country  Population     GDPcapita  surface             region  \\\n",
       "86    Luxembourg      507889  52222.576674     2590        europe_west   \n",
       "143  Switzerland     7830534  38826.842983    41280        europe_west   \n",
       "75         Japan   127319802  39971.787453   377940  east_asia_pacific   \n",
       "111       Norway     4891251  39970.292528   323780        europe_west   \n",
       "132    Singapore     5078961  32640.684416      710  east_asia_pacific   \n",
       "\n",
       "    landlocked GDPcapita_disc  \n",
       "86         Yes     Super High  \n",
       "143        Yes      Very High  \n",
       "75          No      Very High  \n",
       "111         No      Very High  \n",
       "132         No           High  "
      ]
     },
     "execution_count": 12,
     "metadata": {},
     "output_type": "execute_result"
    }
   ],
   "source": [
    "df['GDPcapita_disc'] = pd.cut(df['GDPcapita'], bins=7)\n",
    "# pd.cut discretiza uma coluna do DataFrame em um numero n de faixas\n",
    "# O número de fixas é definido pelo bins; se bins=7, há 7 faixas\n",
    "df['GDPcapita_disc'] = df['GDPcapita_disc'].astype('category')\n",
    "df['GDPcapita_disc'].cat.categories = (\n",
    "    'Super Low','Very Low','Low','Regular','High','Very High','Super High'\n",
    ")\n",
    "df.sort_values(by='GDPcapita_disc',ascending=False).head(5)"
   ]
  },
  {
   "cell_type": "markdown",
   "metadata": {},
   "source": [
    "&nbsp;&nbsp;&nbsp;[Sumário](#Sumario)<br>"
   ]
  },
  {
   "cell_type": "markdown",
   "metadata": {},
   "source": [
    "<a id=\"cruzar\"></a>\n",
    "**Cruzando variáveis discretas:**"
   ]
  },
  {
   "cell_type": "code",
   "execution_count": 13,
   "metadata": {},
   "outputs": [
    {
     "data": {
      "text/html": [
       "<div>\n",
       "<style scoped>\n",
       "    .dataframe tbody tr th:only-of-type {\n",
       "        vertical-align: middle;\n",
       "    }\n",
       "\n",
       "    .dataframe tbody tr th {\n",
       "        vertical-align: top;\n",
       "    }\n",
       "\n",
       "    .dataframe thead th {\n",
       "        text-align: right;\n",
       "    }\n",
       "</style>\n",
       "<table border=\"1\" class=\"dataframe\">\n",
       "  <thead>\n",
       "    <tr style=\"text-align: right;\">\n",
       "      <th>GDPcapita_disc</th>\n",
       "      <th>Super Low</th>\n",
       "      <th>Very Low</th>\n",
       "      <th>Low</th>\n",
       "      <th>Regular</th>\n",
       "      <th>High</th>\n",
       "      <th>Very High</th>\n",
       "      <th>Super High</th>\n",
       "    </tr>\n",
       "    <tr>\n",
       "      <th>landlocked</th>\n",
       "      <th></th>\n",
       "      <th></th>\n",
       "      <th></th>\n",
       "      <th></th>\n",
       "      <th></th>\n",
       "      <th></th>\n",
       "      <th></th>\n",
       "    </tr>\n",
       "  </thead>\n",
       "  <tbody>\n",
       "    <tr>\n",
       "      <th>No</th>\n",
       "      <td>95</td>\n",
       "      <td>15</td>\n",
       "      <td>7</td>\n",
       "      <td>10</td>\n",
       "      <td>7</td>\n",
       "      <td>2</td>\n",
       "      <td>0</td>\n",
       "    </tr>\n",
       "    <tr>\n",
       "      <th>Yes</th>\n",
       "      <td>29</td>\n",
       "      <td>0</td>\n",
       "      <td>0</td>\n",
       "      <td>1</td>\n",
       "      <td>0</td>\n",
       "      <td>1</td>\n",
       "      <td>1</td>\n",
       "    </tr>\n",
       "  </tbody>\n",
       "</table>\n",
       "</div>"
      ],
      "text/plain": [
       "GDPcapita_disc  Super Low  Very Low  Low  Regular  High  Very High  Super High\n",
       "landlocked                                                                    \n",
       "No                     95        15    7       10     7          2           0\n",
       "Yes                    29         0    0        1     0          1           1"
      ]
     },
     "execution_count": 13,
     "metadata": {},
     "output_type": "execute_result"
    }
   ],
   "source": [
    "ct1 = pd.crosstab(df['landlocked'],df['GDPcapita_disc'])\n",
    "ct1"
   ]
  },
  {
   "cell_type": "markdown",
   "metadata": {},
   "source": [
    "&nbsp;&nbsp;&nbsp;[Sumário](#Sumario)<br>"
   ]
  },
  {
   "cell_type": "markdown",
   "metadata": {},
   "source": [
    "<a id=\"plot\"></a>\n",
    "**Plotando o grafico da crosstab:**"
   ]
  },
  {
   "cell_type": "code",
   "execution_count": 14,
   "metadata": {},
   "outputs": [
    {
     "data": {
      "image/png": "[encoded data removed]",
      "text/plain": [
       "<Figure size 432x288 with 1 Axes>"
      ]
     },
     "metadata": {
      "needs_background": "light"
     },
     "output_type": "display_data"
    }
   ],
   "source": [
    "ct1.plot(kind='bar',log=True, width=.75)\n",
    "plt.ylabel('Frequência Absoluta')\n",
    "plt.xlabel('Acesso ao Mar')\n",
    "plt.show()"
   ]
  },
  {
   "cell_type": "markdown",
   "metadata": {},
   "source": [
    "&nbsp;&nbsp;&nbsp;[Sumário](#Sumario)<br>"
   ]
  },
  {
   "cell_type": "markdown",
   "metadata": {},
   "source": [
    "<a id=\"normalizar_crosstab\"></a>\n",
    "**Normalizando a crosstab:**"
   ]
  },
  {
   "cell_type": "code",
   "execution_count": 15,
   "metadata": {},
   "outputs": [
    {
     "data": {
      "text/html": [
       "<div>\n",
       "<style scoped>\n",
       "    .dataframe tbody tr th:only-of-type {\n",
       "        vertical-align: middle;\n",
       "    }\n",
       "\n",
       "    .dataframe tbody tr th {\n",
       "        vertical-align: top;\n",
       "    }\n",
       "\n",
       "    .dataframe thead th {\n",
       "        text-align: right;\n",
       "    }\n",
       "</style>\n",
       "<table border=\"1\" class=\"dataframe\">\n",
       "  <thead>\n",
       "    <tr style=\"text-align: right;\">\n",
       "      <th>GDPcapita_disc</th>\n",
       "      <th>Super Low</th>\n",
       "      <th>Very Low</th>\n",
       "      <th>Low</th>\n",
       "      <th>Regular</th>\n",
       "      <th>High</th>\n",
       "      <th>Very High</th>\n",
       "      <th>Super High</th>\n",
       "    </tr>\n",
       "    <tr>\n",
       "      <th>landlocked</th>\n",
       "      <th></th>\n",
       "      <th></th>\n",
       "      <th></th>\n",
       "      <th></th>\n",
       "      <th></th>\n",
       "      <th></th>\n",
       "      <th></th>\n",
       "    </tr>\n",
       "  </thead>\n",
       "  <tbody>\n",
       "    <tr>\n",
       "      <th>No</th>\n",
       "      <td>76.61</td>\n",
       "      <td>100.0</td>\n",
       "      <td>100.0</td>\n",
       "      <td>90.91</td>\n",
       "      <td>100.0</td>\n",
       "      <td>66.67</td>\n",
       "      <td>0.0</td>\n",
       "    </tr>\n",
       "    <tr>\n",
       "      <th>Yes</th>\n",
       "      <td>23.39</td>\n",
       "      <td>0.0</td>\n",
       "      <td>0.0</td>\n",
       "      <td>9.09</td>\n",
       "      <td>0.0</td>\n",
       "      <td>33.33</td>\n",
       "      <td>100.0</td>\n",
       "    </tr>\n",
       "  </tbody>\n",
       "</table>\n",
       "</div>"
      ],
      "text/plain": [
       "GDPcapita_disc  Super Low  Very Low    Low  Regular   High  Very High  \\\n",
       "landlocked                                                              \n",
       "No                  76.61     100.0  100.0    90.91  100.0      66.67   \n",
       "Yes                 23.39       0.0    0.0     9.09    0.0      33.33   \n",
       "\n",
       "GDPcapita_disc  Super High  \n",
       "landlocked                  \n",
       "No                     0.0  \n",
       "Yes                  100.0  "
      ]
     },
     "execution_count": 15,
     "metadata": {},
     "output_type": "execute_result"
    }
   ],
   "source": [
    "ct2 = pd.crosstab(df['landlocked'],df['GDPcapita_disc'],normalize='columns')\n",
    "# normalize: se receber 'index' normaliza linhas, 'columns' normaliza colunas\n",
    "# caso receba True, normaliza ambos\n",
    "ct2*=100\n",
    "ct2.round(2)"
   ]
  },
  {
   "cell_type": "markdown",
   "metadata": {},
   "source": [
    "&nbsp;&nbsp;&nbsp;[Sumário](#Sumario)<br>"
   ]
  },
  {
   "cell_type": "markdown",
   "metadata": {},
   "source": [
    "<a id=\"describe\"></a>\n",
    "**Descrevendo uma variável quantitativa:**"
   ]
  },
  {
   "cell_type": "code",
   "execution_count": 16,
   "metadata": {},
   "outputs": [
    {
     "data": {
      "text/plain": [
       "count      168.00\n",
       "mean      7354.00\n",
       "std      10615.78\n",
       "min        105.53\n",
       "25%        701.35\n",
       "50%       2385.57\n",
       "75%       8546.12\n",
       "max      52222.58\n",
       "Name: GDPcapita, dtype: float64"
      ]
     },
     "execution_count": 16,
     "metadata": {},
     "output_type": "execute_result"
    }
   ],
   "source": [
    "df['GDPcapita'].describe().round(2)"
   ]
  },
  {
   "cell_type": "markdown",
   "metadata": {},
   "source": [
    "&nbsp;&nbsp;&nbsp;[Sumário](#Sumario)<br>"
   ]
  },
  {
   "cell_type": "markdown",
   "metadata": {},
   "source": [
    "<a id=\"correlacao\"></a>\n",
    "**Correlação ente duas colunas:**"
   ]
  },
  {
   "cell_type": "code",
   "execution_count": 17,
   "metadata": {},
   "outputs": [
    {
     "data": {
      "text/plain": [
       "0.4509581175132893"
      ]
     },
     "execution_count": 17,
     "metadata": {},
     "output_type": "execute_result"
    }
   ],
   "source": [
    "df['surface'].corr(df['Population'])"
   ]
  },
  {
   "cell_type": "markdown",
   "metadata": {},
   "source": [
    "&nbsp;&nbsp;&nbsp;[Sumário](#Sumario)<br>"
   ]
  },
  {
   "cell_type": "markdown",
   "metadata": {},
   "source": [
    "<a id=\"join\"></a>\n",
    "**Juntando 2 DataFrames diferentes:**"
   ]
  },
  {
   "cell_type": "markdown",
   "metadata": {},
   "source": [
    "1. Ler os excel\n",
    "2. Colocar o index\n",
    "3. Limpar"
   ]
  },
  {
   "cell_type": "code",
   "execution_count": 18,
   "metadata": {},
   "outputs": [],
   "source": [
    "co2 = pd.read_excel('CO2.xlsx')\n",
    "co2 = co2.set_index('CO2 per capita')\n",
    "co2 = co2.loc[:, co2.columns[-3:]]\n",
    "co2 = co2.dropna(0)"
   ]
  },
  {
   "cell_type": "code",
   "execution_count": 19,
   "metadata": {},
   "outputs": [],
   "source": [
    "income = pd.read_excel('GDPPERCAPITA.xlsx')\n",
    "income = income.set_index('GDP per capita')\n",
    "income = income.loc[:, income.columns[-6:-3]]\n",
    "income = income.dropna(0)"
   ]
  },
  {
   "cell_type": "code",
   "execution_count": 20,
   "metadata": {},
   "outputs": [
    {
     "data": {
      "text/html": [
       "<div>\n",
       "<style scoped>\n",
       "    .dataframe tbody tr th:only-of-type {\n",
       "        vertical-align: middle;\n",
       "    }\n",
       "\n",
       "    .dataframe tbody tr th {\n",
       "        vertical-align: top;\n",
       "    }\n",
       "\n",
       "    .dataframe thead th {\n",
       "        text-align: right;\n",
       "    }\n",
       "</style>\n",
       "<table border=\"1\" class=\"dataframe\">\n",
       "  <thead>\n",
       "    <tr style=\"text-align: right;\">\n",
       "      <th></th>\n",
       "      <th>2010_co2</th>\n",
       "      <th>2011_co2</th>\n",
       "      <th>2012_co2</th>\n",
       "      <th>2010_income</th>\n",
       "      <th>2011_income</th>\n",
       "      <th>2012_income</th>\n",
       "    </tr>\n",
       "  </thead>\n",
       "  <tbody>\n",
       "    <tr>\n",
       "      <th>Algeria</th>\n",
       "      <td>3.480977</td>\n",
       "      <td>3.562504</td>\n",
       "      <td>3.785654</td>\n",
       "      <td>12494.0</td>\n",
       "      <td>12606.0</td>\n",
       "      <td>12779.0</td>\n",
       "    </tr>\n",
       "    <tr>\n",
       "      <th>Argentina</th>\n",
       "      <td>4.466338</td>\n",
       "      <td>4.676320</td>\n",
       "      <td>4.774982</td>\n",
       "      <td>15765.0</td>\n",
       "      <td>16972.0</td>\n",
       "      <td>17101.0</td>\n",
       "    </tr>\n",
       "    <tr>\n",
       "      <th>Australia</th>\n",
       "      <td>16.752301</td>\n",
       "      <td>16.772660</td>\n",
       "      <td>16.182094</td>\n",
       "      <td>41330.0</td>\n",
       "      <td>41706.0</td>\n",
       "      <td>42522.0</td>\n",
       "    </tr>\n",
       "    <tr>\n",
       "      <th>Austria</th>\n",
       "      <td>7.969244</td>\n",
       "      <td>7.606392</td>\n",
       "      <td>7.095971</td>\n",
       "      <td>42861.0</td>\n",
       "      <td>44029.0</td>\n",
       "      <td>44216.0</td>\n",
       "    </tr>\n",
       "    <tr>\n",
       "      <th>Azerbaijan</th>\n",
       "      <td>4.976935</td>\n",
       "      <td>5.326446</td>\n",
       "      <td>5.408627</td>\n",
       "      <td>15950.0</td>\n",
       "      <td>15754.0</td>\n",
       "      <td>15888.0</td>\n",
       "    </tr>\n",
       "  </tbody>\n",
       "</table>\n",
       "</div>"
      ],
      "text/plain": [
       "             2010_co2   2011_co2   2012_co2  2010_income  2011_income  \\\n",
       "Algeria      3.480977   3.562504   3.785654      12494.0      12606.0   \n",
       "Argentina    4.466338   4.676320   4.774982      15765.0      16972.0   \n",
       "Australia   16.752301  16.772660  16.182094      41330.0      41706.0   \n",
       "Austria      7.969244   7.606392   7.095971      42861.0      44029.0   \n",
       "Azerbaijan   4.976935   5.326446   5.408627      15950.0      15754.0   \n",
       "\n",
       "            2012_income  \n",
       "Algeria         12779.0  \n",
       "Argentina       17101.0  \n",
       "Australia       42522.0  \n",
       "Austria         44216.0  \n",
       "Azerbaijan      15888.0  "
      ]
     },
     "execution_count": 20,
     "metadata": {},
     "output_type": "execute_result"
    }
   ],
   "source": [
    "df2 = co2.join(income, how = 'inner', lsuffix = '_co2', rsuffix = '_income')\n",
    "df2.head(5)"
   ]
  },
  {
   "cell_type": "markdown",
   "metadata": {},
   "source": [
    "&nbsp;&nbsp;&nbsp;[Sumário](#Sumario)<br>"
   ]
  },
  {
   "cell_type": "markdown",
   "metadata": {},
   "source": [
    "<a id=\"quantil\"></a>\n",
    "**Filtrando por quantil:**"
   ]
  },
  {
   "cell_type": "code",
   "execution_count": 21,
   "metadata": {},
   "outputs": [
    {
     "data": {
      "text/html": [
       "<div>\n",
       "<style scoped>\n",
       "    .dataframe tbody tr th:only-of-type {\n",
       "        vertical-align: middle;\n",
       "    }\n",
       "\n",
       "    .dataframe tbody tr th {\n",
       "        vertical-align: top;\n",
       "    }\n",
       "\n",
       "    .dataframe thead th {\n",
       "        text-align: right;\n",
       "    }\n",
       "</style>\n",
       "<table border=\"1\" class=\"dataframe\">\n",
       "  <thead>\n",
       "    <tr style=\"text-align: right;\">\n",
       "      <th></th>\n",
       "      <th>Country</th>\n",
       "      <th>Population</th>\n",
       "      <th>GDPcapita</th>\n",
       "      <th>surface</th>\n",
       "      <th>region</th>\n",
       "      <th>landlocked</th>\n",
       "      <th>GDPcapita_disc</th>\n",
       "    </tr>\n",
       "  </thead>\n",
       "  <tbody>\n",
       "    <tr>\n",
       "      <th>31</th>\n",
       "      <td>China</td>\n",
       "      <td>1340968737</td>\n",
       "      <td>2426.332466</td>\n",
       "      <td>9600000</td>\n",
       "      <td>east_asia_pacific</td>\n",
       "      <td>No</td>\n",
       "      <td>Super Low</td>\n",
       "    </tr>\n",
       "    <tr>\n",
       "      <th>69</th>\n",
       "      <td>India</td>\n",
       "      <td>1230984504</td>\n",
       "      <td>794.801256</td>\n",
       "      <td>3287260</td>\n",
       "      <td>asia_west</td>\n",
       "      <td>No</td>\n",
       "      <td>Super Low</td>\n",
       "    </tr>\n",
       "    <tr>\n",
       "      <th>160</th>\n",
       "      <td>United States</td>\n",
       "      <td>309876170</td>\n",
       "      <td>37329.615914</td>\n",
       "      <td>9831510</td>\n",
       "      <td>america_north</td>\n",
       "      <td>No</td>\n",
       "      <td>High</td>\n",
       "    </tr>\n",
       "    <tr>\n",
       "      <th>70</th>\n",
       "      <td>Indonesia</td>\n",
       "      <td>241613126</td>\n",
       "      <td>1145.385435</td>\n",
       "      <td>1904570</td>\n",
       "      <td>east_asia_pacific</td>\n",
       "      <td>No</td>\n",
       "      <td>Super Low</td>\n",
       "    </tr>\n",
       "  </tbody>\n",
       "</table>\n",
       "</div>"
      ],
      "text/plain": [
       "           Country  Population     GDPcapita  surface             region  \\\n",
       "31           China  1340968737   2426.332466  9600000  east_asia_pacific   \n",
       "69           India  1230984504    794.801256  3287260          asia_west   \n",
       "160  United States   309876170  37329.615914  9831510      america_north   \n",
       "70       Indonesia   241613126   1145.385435  1904570  east_asia_pacific   \n",
       "\n",
       "    landlocked GDPcapita_disc  \n",
       "31          No      Super Low  \n",
       "69          No      Super Low  \n",
       "160         No           High  \n",
       "70          No      Super Low  "
      ]
     },
     "execution_count": 21,
     "metadata": {},
     "output_type": "execute_result"
    }
   ],
   "source": [
    "# Constrói com 98% dos dados pela População\n",
    "df[df['Population'] >= df['Population'].quantile(0.98)].sort_values(by = 'Population', ascending = False)"
   ]
  },
  {
   "cell_type": "markdown",
   "metadata": {},
   "source": [
    "&nbsp;&nbsp;&nbsp;[Sumário](#Sumario)<br>"
   ]
  },
  {
   "cell_type": "markdown",
   "metadata": {},
   "source": [
    "<a id=\"boxplot\"></a>\n",
    "**Boxplot:**"
   ]
  },
  {
   "cell_type": "code",
   "execution_count": 22,
   "metadata": {},
   "outputs": [
    {
     "data": {
      "image/png": "[encoded data removed]",
      "text/plain": [
       "<Figure size 432x288 with 1 Axes>"
      ]
     },
     "metadata": {
      "needs_background": "light"
     },
     "output_type": "display_data"
    }
   ],
   "source": [
    "df['GDPcapita'].plot.box()\n",
    "plt.grid(True);"
   ]
  },
  {
   "cell_type": "markdown",
   "metadata": {},
   "source": [
    "$1ºQuartil$"
   ]
  },
  {
   "cell_type": "code",
   "execution_count": 23,
   "metadata": {},
   "outputs": [
    {
     "name": "stdout",
     "output_type": "stream",
     "text": [
      "Q1:  701.35\n"
     ]
    }
   ],
   "source": [
    "Q1 = df.GDPcapita.describe()[4].round(2);  print('Q1: ',Q1)"
   ]
  },
  {
   "cell_type": "markdown",
   "metadata": {},
   "source": [
    "$Mediana$"
   ]
  },
  {
   "cell_type": "code",
   "execution_count": 24,
   "metadata": {},
   "outputs": [
    {
     "name": "stdout",
     "output_type": "stream",
     "text": [
      "Mediana:  2385.57\n"
     ]
    }
   ],
   "source": [
    "Med = df.GDPcapita.describe()[5].round(2); print('Mediana: ',Med)"
   ]
  },
  {
   "cell_type": "markdown",
   "metadata": {},
   "source": [
    "$3ºQuartil$ "
   ]
  },
  {
   "cell_type": "code",
   "execution_count": 25,
   "metadata": {},
   "outputs": [
    {
     "name": "stdout",
     "output_type": "stream",
     "text": [
      "Q3:  8546.12\n"
     ]
    }
   ],
   "source": [
    "Q3 = df.GDPcapita.describe()[6].round(2); print('Q3: ',Q3)"
   ]
  },
  {
   "cell_type": "markdown",
   "metadata": {},
   "source": [
    "* $Limite_{Inferior} = 1ºQuartil - 1.5 \\cdot (3ºQuartil - 1ºQuartil)$"
   ]
  },
  {
   "cell_type": "code",
   "execution_count": 26,
   "metadata": {},
   "outputs": [
    {
     "name": "stdout",
     "output_type": "stream",
     "text": [
      "LI = -11065.81\n",
      "Como não há outliers para baixo LI = 105.53\n"
     ]
    }
   ],
   "source": [
    "print('LI = {0:.2f}'.format(Q1 - 1.5 * (Q3 - Q1)))\n",
    "# Se não hover valores inferiores ao LI a cauda vai até o valor Min\n",
    "print('Como não há outliers para baixo LI = {:.2f}'.format(df.GDPcapita.min()))"
   ]
  },
  {
   "cell_type": "markdown",
   "metadata": {},
   "source": [
    "* $Limite_{Superior} = 3ºQuartil + 1.5 \\cdot (3ºQuartil - 1ºQuartil)$"
   ]
  },
  {
   "cell_type": "code",
   "execution_count": 27,
   "metadata": {},
   "outputs": [
    {
     "name": "stdout",
     "output_type": "stream",
     "text": [
      "LS = 20313.28\n"
     ]
    }
   ],
   "source": [
    "print('LS = {0:.2f}'.format(Q3 + 1.5 * (Q3 - Q1)))"
   ]
  },
  {
   "cell_type": "markdown",
   "metadata": {},
   "source": [
    "&nbsp;&nbsp;&nbsp;[Sumário](#Sumario)<br>"
   ]
  },
  {
   "cell_type": "markdown",
   "metadata": {},
   "source": [
    "<a id=\"boxplot_agrupamento\"></a>\n",
    "**Boxplot com agrupamento:**"
   ]
  },
  {
   "cell_type": "code",
   "execution_count": 28,
   "metadata": {},
   "outputs": [
    {
     "data": {
      "image/png": "[encoded data removed]",
      "text/plain": [
       "<Figure size 432x288 with 1 Axes>"
      ]
     },
     "metadata": {
      "needs_background": "light"
     },
     "output_type": "display_data"
    }
   ],
   "source": [
    "df.loc[:, ['GDPcapita', 'landlocked']].boxplot(by = 'landlocked')\n",
    "plt.title(None);"
   ]
  },
  {
   "cell_type": "markdown",
   "metadata": {},
   "source": [
    "&nbsp;&nbsp;&nbsp;[Sumário](#Sumario)<br>"
   ]
  },
  {
   "cell_type": "markdown",
   "metadata": {},
   "source": [
    "<a id=\"histograma_densidade\"></a>\n",
    "**Histograma de densidade:**"
   ]
  },
  {
   "cell_type": "code",
   "execution_count": 29,
   "metadata": {},
   "outputs": [
    {
     "data": {
      "image/png": "[encoded data removed]",
      "text/plain": [
       "<Figure size 432x288 with 1 Axes>"
      ]
     },
     "metadata": {
      "needs_background": "light"
     },
     "output_type": "display_data"
    }
   ],
   "source": [
    "df.GDPcapita.plot.hist(density = True, bins = 20, alpha=0.70, edgecolor='k')\n",
    "plt.minorticks_on()"
   ]
  },
  {
   "cell_type": "markdown",
   "metadata": {},
   "source": [
    "&nbsp;&nbsp;&nbsp;[Sumário](#Sumario)<br>"
   ]
  },
  {
   "cell_type": "markdown",
   "metadata": {},
   "source": [
    "<a id=\"duas_variaveis\"></a>\n",
    "**Scatter, analisando duas variáveis quantitativas:**"
   ]
  },
  {
   "cell_type": "code",
   "execution_count": 30,
   "metadata": {},
   "outputs": [],
   "source": [
    "def reta(dados_x, dados_y):    \n",
    "    a = dados_y.cov(dados_x) / dados_x.var()\n",
    "    b = dados_y.mean() - a * dados_x.mean()\n",
    "    \n",
    "    plt.plot((dados_x.min(), dados_x.max()),\n",
    "             (a * dados_x.min() + b, a * dados_x.max() + b)\n",
    "             , color='red', linewidth=3, linestyle='solid')"
   ]
  },
  {
   "cell_type": "code",
   "execution_count": 31,
   "metadata": {},
   "outputs": [
    {
     "data": {
      "image/png": "[encoded data removed]",
      "text/plain": [
       "<Figure size 432x288 with 1 Axes>"
      ]
     },
     "metadata": {
      "needs_background": "light"
     },
     "output_type": "display_data"
    },
    {
     "name": "stdout",
     "output_type": "stream",
     "text": [
      "Correlação entre surface e GDPcapita = 0.07354\n"
     ]
    }
   ],
   "source": [
    "area = df.surface\n",
    "renda = df.GDPcapita\n",
    "\n",
    "plt.scatter(area, renda, alpha=0.7)\n",
    "plt.yscale('log')\n",
    "plt.xscale('log')\n",
    "reta(area, renda)\n",
    "plt.show()\n",
    "\n",
    "print('Correlação entre surface e GDPcapita = {}'.format(\n",
    "    df.surface.corr(df.GDPcapita).round(5)))"
   ]
  },
  {
   "cell_type": "markdown",
   "metadata": {},
   "source": [
    "&nbsp;&nbsp;&nbsp;[Sumário](#Sumario)<br>"
   ]
  },
  {
   "cell_type": "markdown",
   "metadata": {},
   "source": [
    "# Modelos Probabilísticos"
   ]
  },
  {
   "cell_type": "markdown",
   "metadata": {},
   "source": [
    "<a id=\"exercicios\"></a>\n",
    "## Exercícios Normal:\n",
    "\n",
    "***Enunciado 1***\n",
    "\n",
    "Colesterol é um ácido graxo que é componente importante da membrana das células dos animais. A faixa normal para um adulto é entre $120-240 mg/dl$. O Instituto de Nutrição e Saúde das Filipinas descobriu que os adultos daquele país têm média de 159.2 mg/dl e 84.1% dos adultos têm um nível de menos que 200 mg/dl. Suponha que o colesterol é distribuído normalmente\n",
    "\n",
    "1. Encontre o desvio padrão desta distribuição\n",
    "2. Quais são os quartis da distribuição?\n",
    "3. Qual o valor de colesterol excedido por 90% da população?\n",
    "1. Um adulto tem risco moderado se está mais que 2 desvios padrão acima da média. Qual a porcentagem da população que está em risco?"
   ]
  },
  {
   "cell_type": "markdown",
   "metadata": {},
   "source": [
    "### Exercicio 1:\n",
    "* $P(X=200) = 0.841$\n",
    "* $μ = 159.2 mg/dl$\n",
    "* $z = \\frac{x - μ}{σ}$"
   ]
  },
  {
   "cell_type": "code",
   "execution_count": 32,
   "metadata": {},
   "outputs": [
    {
     "name": "stdout",
     "output_type": "stream",
     "text": [
      "Desvio Padrão [σ] 40.86\n"
     ]
    }
   ],
   "source": [
    "μ = 159.2\n",
    "z = stats.norm.ppf(0.841) # Area → Ponto\n",
    "σ = (200 - μ)/z\n",
    "print('Desvio Padrão [σ]',σ.round(2))"
   ]
  },
  {
   "cell_type": "markdown",
   "metadata": {},
   "source": [
    "### Exercicio 2:"
   ]
  },
  {
   "cell_type": "code",
   "execution_count": 33,
   "metadata": {},
   "outputs": [
    {
     "name": "stdout",
     "output_type": "stream",
     "text": [
      "Q1 [25%] 131.64\n",
      "Q3 [75%] 186.76\n"
     ]
    }
   ],
   "source": [
    "Q1 = stats.norm.ppf(0.25, loc=μ, scale=σ) # Area → Ponto\n",
    "Q3 = stats.norm.ppf(0.75, loc=μ, scale=σ)\n",
    "print('Q1 [25%]',Q1.round(2))\n",
    "print('Q3 [75%]',Q3.round(2))"
   ]
  },
  {
   "cell_type": "markdown",
   "metadata": {},
   "source": [
    "### Exercicio 3:\n",
    "* $Pop_{(Colesterol)} = 1_{Pop} - 0.9_{Pop} = 0.1_{Pop}$"
   ]
  },
  {
   "cell_type": "code",
   "execution_count": 34,
   "metadata": {},
   "outputs": [
    {
     "name": "stdout",
     "output_type": "stream",
     "text": [
      "90% da população tem um colesterol maior que 106.84\n"
     ]
    }
   ],
   "source": [
    "Pop90 = stats.norm.ppf(0.1, loc=μ, scale=σ).round(2)\n",
    "print('90% da população tem um colesterol maior que', Pop90)"
   ]
  },
  {
   "cell_type": "markdown",
   "metadata": {},
   "source": [
    "### Exercicio 4:"
   ]
  },
  {
   "cell_type": "code",
   "execution_count": 35,
   "metadata": {},
   "outputs": [
    {
     "name": "stdout",
     "output_type": "stream",
     "text": [
      "O percentual de pessoas que está em risco é de 2.28%\n"
     ]
    }
   ],
   "source": [
    "valor = μ + 2*σ\n",
    "risco = 1 - stats.norm.cdf(valor, loc=μ, scale=σ) # Ponto → Area\n",
    "risco*=100\n",
    "print('O percentual de pessoas que está em risco é de {:.2f}%'.format(risco))"
   ]
  },
  {
   "cell_type": "markdown",
   "metadata": {},
   "source": [
    "&nbsp;&nbsp;&nbsp;[Sumário](#Sumario)<br>"
   ]
  },
  {
   "cell_type": "markdown",
   "metadata": {},
   "source": [
    "***Enunciado 2***\n",
    "\n",
    "Você recebeu o arquivo `dados_normal.txt` com dados de concentração (em $\\mu g/L$) de um determinado poluente em um tanque de combustível\n",
    "\n",
    "Pede-se:\n",
    "\n",
    "1. Visualize o histograma dos dados\n",
    "1. Usando um plot de probabilidade, ou QQ-Plot, verifique se os dados aparentam seguir uma distribuição normal\n",
    "1. Realize o `fit`  de uma distribuição normal, e faça o plot da `pdf` sobre o histograma de densidade da distribuição"
   ]
  },
  {
   "cell_type": "code",
   "execution_count": 36,
   "metadata": {},
   "outputs": [],
   "source": [
    "dados = \"\"\n",
    "with open(\"dados_normal.txt\") as f:\n",
    "    dados = \" \".join(f.readlines())\n",
    "dados = pd.DataFrame(pd.Series(float(value) for value in dados.split()),\n",
    "                     columns=['Dados']).set_index('Dados')"
   ]
  },
  {
   "cell_type": "markdown",
   "metadata": {},
   "source": [
    "### Exercicio 1:"
   ]
  },
  {
   "cell_type": "code",
   "execution_count": 37,
   "metadata": {},
   "outputs": [
    {
     "data": {
      "image/png": "[encoded data removed]",
      "text/plain": [
       "<Figure size 432x288 with 1 Axes>"
      ]
     },
     "metadata": {
      "needs_background": "light"
     },
     "output_type": "display_data"
    }
   ],
   "source": [
    "plt.hist(dados.index, density = True, bins = 22);"
   ]
  },
  {
   "cell_type": "markdown",
   "metadata": {},
   "source": [
    "### Exercicio 2:"
   ]
  },
  {
   "cell_type": "code",
   "execution_count": 38,
   "metadata": {},
   "outputs": [
    {
     "data": {
      "image/png": "[encoded data removed]",
      "text/plain": [
       "<Figure size 432x288 with 1 Axes>"
      ]
     },
     "metadata": {
      "needs_background": "light"
     },
     "output_type": "display_data"
    }
   ],
   "source": [
    "stats.probplot(dados.index, dist = \"norm\", plot = plt);"
   ]
  },
  {
   "cell_type": "markdown",
   "metadata": {},
   "source": [
    "### Exercicio 3:"
   ]
  },
  {
   "cell_type": "code",
   "execution_count": 39,
   "metadata": {},
   "outputs": [
    {
     "data": {
      "image/png": "[encoded data removed]",
      "text/plain": [
       "<Figure size 432x288 with 1 Axes>"
      ]
     },
     "metadata": {
      "needs_background": "light"
     },
     "output_type": "display_data"
    }
   ],
   "source": [
    "loc, scale = stats.norm.fit(dados.index)\n",
    "x = np.linspace(400, 600, 1000)\n",
    "y = stats.norm.pdf(x, loc = loc, scale = scale)\n",
    "\n",
    "plt.hist(dados.index, density=True, bins=20, alpha=0.6, edgecolor='blue');\n",
    "plt.plot(x, y, color='red', linewidth=3, linestyle='solid')\n",
    "plt.minorticks_on()\n",
    "plt.show()"
   ]
  },
  {
   "cell_type": "markdown",
   "metadata": {},
   "source": [
    "&nbsp;&nbsp;&nbsp;[Sumário](#Sumario)<br>"
   ]
  },
  {
   "cell_type": "markdown",
   "metadata": {},
   "source": [
    "<a id=\"curvas_amostras\"></a>\n",
    "**Construindo as curvas e gerando amostras aleatórias:**"
   ]
  },
  {
   "cell_type": "markdown",
   "metadata": {},
   "source": [
    "* Quantidade de pontos da curva desejada"
   ]
  },
  {
   "cell_type": "code",
   "execution_count": 40,
   "metadata": {},
   "outputs": [],
   "source": [
    "n = 100000"
   ]
  },
  {
   "cell_type": "markdown",
   "metadata": {},
   "source": [
    "* Eixo X das curvas"
   ]
  },
  {
   "cell_type": "code",
   "execution_count": 41,
   "metadata": {},
   "outputs": [],
   "source": [
    "eixo_x = np.linspace(-1, 20, 600)"
   ]
  },
  {
   "cell_type": "markdown",
   "metadata": {},
   "source": [
    "* Eixo Y das curvas"
   ]
  },
  {
   "cell_type": "code",
   "execution_count": 42,
   "metadata": {},
   "outputs": [],
   "source": [
    "pdf_unif = stats.uniform.pdf(eixo_x, loc = 4, scale = 3)\n",
    "pdf_exp = stats.expon.pdf(eixo_x, scale = 3)"
   ]
  },
  {
   "cell_type": "markdown",
   "metadata": {},
   "source": [
    "* Gerando listas aleatórias"
   ]
  },
  {
   "cell_type": "code",
   "execution_count": 43,
   "metadata": {},
   "outputs": [],
   "source": [
    "x = stats.uniform.rvs(loc = 4, scale = 3, size = n)\n",
    "y = stats.expon.rvs(scale = 3, size = n)"
   ]
  },
  {
   "cell_type": "markdown",
   "metadata": {},
   "source": [
    "* Plot das amostras"
   ]
  },
  {
   "cell_type": "code",
   "execution_count": 44,
   "metadata": {},
   "outputs": [
    {
     "data": {
      "image/png": "[encoded data removed]",
      "text/plain": [
       "<Figure size 432x288 with 1 Axes>"
      ]
     },
     "metadata": {
      "needs_background": "light"
     },
     "output_type": "display_data"
    }
   ],
   "source": [
    "plt.hist(y, label=\"z\", bins=75, density=True, alpha=0.2, edgecolor='k', color='blue')\n",
    "plt.plot(eixo_x, pdf_exp, label=\"exponencial\", color='blue', linewidth=2)\n",
    "plt.legend();"
   ]
  },
  {
   "cell_type": "code",
   "execution_count": 45,
   "metadata": {},
   "outputs": [
    {
     "data": {
      "image/png": "[encoded data removed]",
      "text/plain": [
       "<Figure size 432x288 with 1 Axes>"
      ]
     },
     "metadata": {
      "needs_background": "light"
     },
     "output_type": "display_data"
    }
   ],
   "source": [
    "plt.hist(x, label=\"z\", bins=75, density=True, alpha=0.1, edgecolor='k', color='orange')\n",
    "plt.plot(eixo_x, pdf_unif, label=\"uniforme\", color='orange', linewidth=2)\n",
    "plt.legend();"
   ]
  },
  {
   "cell_type": "markdown",
   "metadata": {},
   "source": [
    "&nbsp;&nbsp;&nbsp;[Sumário](#Sumario)<br>"
   ]
  },
  {
   "cell_type": "markdown",
   "metadata": {},
   "source": [
    "<a id=\"combinacao\"></a>\n",
    "**Fazendo a combinação das amostras aleatórias:**"
   ]
  },
  {
   "cell_type": "code",
   "execution_count": 46,
   "metadata": {},
   "outputs": [],
   "source": [
    "z = x + y # Somando elemento a elemento de x e y e obtendo um novo array"
   ]
  },
  {
   "cell_type": "code",
   "execution_count": 47,
   "metadata": {},
   "outputs": [
    {
     "data": {
      "image/png": "[encoded data removed]",
      "text/plain": [
       "<Figure size 432x288 with 1 Axes>"
      ]
     },
     "metadata": {
      "needs_background": "light"
     },
     "output_type": "display_data"
    }
   ],
   "source": [
    "plt.hist(z, label=\"z\", bins=80, density=True, alpha=0.5, edgecolor='gray', color='gray')\n",
    "plt.plot(eixo_x, pdf_unif, label=\"uniforme\",color='orange', linewidth=2)\n",
    "plt.plot(eixo_x, pdf_exp, label=\"exponencial\",color='blue', linewidth=2)\n",
    "plt.legend();"
   ]
  },
  {
   "cell_type": "markdown",
   "metadata": {},
   "source": [
    "&nbsp;&nbsp;&nbsp;[Sumário](#Sumario)<br>"
   ]
  },
  {
   "cell_type": "markdown",
   "metadata": {},
   "source": [
    " "
   ]
  }
 ],
 "metadata": {
  "kernelspec": {
   "display_name": "Python 3",
   "language": "python",
   "name": "python3"
  },
  "language_info": {
   "codemirror_mode": {
    "name": "ipython",
    "version": 3
   },
   "file_extension": ".py",
   "mimetype": "text/x-python",
   "name": "python",
   "nbconvert_exporter": "python",
   "pygments_lexer": "ipython3",
   "version": "3.7.3"
  }
 },
 "nbformat": 4,
 "nbformat_minor": 2
}
