{
 "cells": [
  {
   "cell_type": "markdown",
   "metadata": {},
   "source": [
    "## Propriedades da Esperança e Variância"
   ]
  },
  {
   "cell_type": "markdown",
   "metadata": {},
   "source": [
    "### Propriedades da Esperança:\n",
    "1. $E(X+d)= E(X)+ d$, onde $d$ é uma constante\n",
    "2. $E(cX+d)= cE(X)$, onde $c$ é uma constante\n",
    "3. $E(cX+d)= cE(X)+ d$, onde $c$ e $d$ são constantes"
   ]
  },
  {
   "cell_type": "markdown",
   "metadata": {},
   "source": [
    "### Propriedades da Variância:\n",
    "1. $Var(X+d)= Var(X)$, onde $d$ é uma constante\n",
    "2. $Var(cX+d)= c^2Var(X)$, onde $c$ é uma constante\n",
    "3. $Var(cX+d)= c^2Var(X)$, onde $c$ e $d$ são constantes"
   ]
  },
  {
   "cell_type": "markdown",
   "metadata": {},
   "source": [
    "## Distribuições quando e como usá-las"
   ]
  },
  {
   "cell_type": "markdown",
   "metadata": {},
   "source": [
    "- ## **<font color= lightpurple> Distribuições Discretas </font>**\n",
    "    - Binomial/Experimento de Bernoulli: trata-se de **um experimento com dois possíveis resultados**, no caso falha e sucesso (0 e 1), ele é representado matemáticamente da seguinte maneira:\n",
    "     $P(X=x)=\\binom{n}{x} \\cdot p^x \\cdot (1-p)^{(n-x)}$, em que:\n",
    "         - $P(X=x)$ representa \"probabilidade de $x$ sucessos em $n$ tentativas\n",
    "         - $n$ representa o número de tentativas ou repetições\n",
    "         - $x$ representa o número de sucessos que ocorreram dentro das n tentativas\n",
    "         - $p$ representa a probabilidade de sucesso em cada tentativa\n",
    "         - $∴ P(X=x)$ é igual ao binomial $\\frac {n!}{x!(n-x)!} \\cdot $ probabilidade de sucesso elevada ao número de sucessos $ \\cdot $ probabilidade de falhas elevada ao número de falhas\n",
    "         - Cálculo da média ($x̄$) ou esperança ($E(X)$): $n*p$\n",
    "         - Cálculo da variância $V_{ar}(X)= E(X)*(1-p)= σ^2$, sendo que $σ$ representa o desvio padrão\n",
    "    - **Qual é a diferença entre uma distribuição binomial e entre o experimento de *Bernoulli*?**\n",
    "         - R: o experimento de *Bernoulli* trata-se de um caso específico de distribuição binomial em que o número $n$ de tentativas/repetições vale 1"
   ]
  },
  {
   "cell_type": "markdown",
   "metadata": {},
   "source": [
    "como usar no phyton:\n",
    "\n",
    "<font color= green>**from**</font> scipy <font color= green>**import**</font> stats\n",
    "- $P(X=x)$ = stats.binom.pmf(x,n,p)\n",
    "- $E(X)$ = stats.binom.mean(n,p) *<font color= darkcyan>                         #(Média ou esperança)</font>*\n",
    "- $V_{ar}(X)$ = stats.binom.var(n,p) *<font color= darkcyan>                     #(Variância)</font>*\n",
    "- $σ(X)$ = stats.binom.std(n,p) *<font color= darkcyan>                          #(Desvio Padrão)</font>*"
   ]
  },
  {
   "cell_type": "code",
   "execution_count": null,
   "metadata": {},
   "outputs": [],
   "source": [
    "from scipy import stats\n",
    "P= stats.binom.pmf(x,n,p)\n",
    "E = stats.binom.mean(n,p) #(Média ou esperança)\n",
    "Var = stats.binom.var(n,p) #(Variância)\n",
    "DP = stats.binom.std(n,p) #(Desvio Padrão)"
   ]
  },
  {
   "cell_type": "markdown",
   "metadata": {},
   "source": [
    "- Distribuições Discretas\n",
    "    - Poisson: Usamos Poisson quando temos a estimativa do número de ocorrencias de um evento num espaço contínuo(Ex's: defeitos por tempo, poluição por área), ou seja: **a taxa média de ocorrências é fixa**; ele é representado matemáticamente da seguinte maneira: $P(X=x)= \\frac {e^{-λ}λ^x}{x!}$ ,em que:\n",
    "        - $λ$ representa a taxa média de ocorrências\n",
    "        - No caso de uma distribução de Poisson, tanto $E(X)$, quanto $V_{ar}(X)$ valem $λ$\n",
    "    "
   ]
  },
  {
   "cell_type": "markdown",
   "metadata": {},
   "source": [
    "como usar no phyton:\n",
    "\n",
    "<font color= green>**from**</font> scipy <font color= green>**import**</font> stats\n",
    "- $P(X=x)$ = stats.poisson.pmf(x,λ)\n",
    "- $E(X)$ = stats.poisson.mean(λ, loc=0) *<font color= darkcyan>                         #(Média ou esperança)</font>*\n",
    "- $V_{ar}(X)$ = stats.poisson.var(λ, loc=0) *<font color= darkcyan>                     #(Variância)</font>*\n",
    "- $σ(X)$ = stats.poisson.std(λ, loc=0) *<font color= darkcyan>                          #(Desvio Padrão)</font>*"
   ]
  },
  {
   "cell_type": "code",
   "execution_count": null,
   "metadata": {},
   "outputs": [],
   "source": [
    "from scipy import stats\n",
    "P = stats.poisson.pmf(x,λ)\n",
    "E = stats.poisson.mean(λ, loc=0) #(Média ou esperança)\n",
    "Var = stats.poisson.var(λ, loc=0) #(Variância)\n",
    "DP = stats.poisson.std(λ, loc=0) #(Desvio Padrão)"
   ]
  },
  {
   "cell_type": "markdown",
   "metadata": {},
   "source": [
    "- ## <font color= lightpurple>Distribuições Contínuas </font>\n",
    "    - Exponencial: A distribuição exponencial é basicamente uma distribuição de Poisson Contínua\n",
    "        - **<font color= red> CUIDADO!!! </font>**: o exercício pode tanto te forncer a **Taxa média^($β = μ$)** quanto o número de **Eventos ($α = \\frac{1}{β}$)** que ocorrem.\n",
    "        - α(frequência)\n",
    "        - β(Tempo médio que se espera pra acontecer ou período) \n",
    "        - Função cumulativa e Função de densidade de probabilidade de uma exponencial: $αe^{-αx}$ para os valores $x≥0$ e $α^{-1}>0$\n",
    "        - Média de uma Exponencial: $E(X)= α^{-1}$\n",
    "        - Variância de uma Exponencial: $V_{ar}(X)= α^{-2}$"
   ]
  },
  {
   "cell_type": "markdown",
   "metadata": {},
   "source": [
    "como usar no phyton:\n",
    "\n",
    "<font color= green>**from**</font> scipy <font color= green>**import**</font> stats\n",
    "- $P(X=x)$ = stats.expon.pmf(loc=0,scale=β)\n",
    "- $E(X)$ = stats.expon.mean(loc=0,scale=β) *<font color= darkcyan>                         #(Média ou esperança)</font>*\n",
    "- $V_{ar}(X)$ = stats.expon.var(loc=0,scale=β) *<font color= darkcyan>                     #(Variância)</font>*\n",
    "- $σ(X)$ = stats.expon.std(loc=0,scale=β) *<font color= darkcyan>                          #(Desvio Padrão)</font>*\n",
    "- *Percentile Point Function*(PPF) = stats.expon.ppf(loc=0,scale=β) *<font color= darkcyan>#A partir de uma porcentagem encontra o ponto que \"deixa essa area pra trás\"</font>*\n",
    "- *Cumulative Density Function*(CDF) = stats.expon.cdf(loc=0,scale=β) *<font color= darkcyan>#A partir de um ponto encontra qual o percentil/quantil que o gráfico \"deixa para trás\"</font>*\n",
    "- *Random Variables(RVS) = stats.expon.rvs(loc=0,scale=β)  *<font color= darkcyan>#if an array should be a 1-D array of observations of random variables,</font>* <font color= darkblue> observação unidimensional de variáveis aleatórias</font>"
   ]
  },
  {
   "cell_type": "markdown",
   "metadata": {},
   "source": [
    "- ## <font color= lightpurple>Distribuições Contínuas </font>\n",
    "     - Normal: A distribuição normal é basicamente uma distribuição binomial Contínua\n",
    "     - Função cumulativa e Função de densidade de probabilidade de uma normal: $\\frac{1}{σ\\sqrt{2π}}e^{\\frac{-(x-μ)^2}{2σ^2}}$ ou $Z=\\frac{X-μ}{σ}$\n",
    "     - Mais referencias de Normal: https://sites.nicholas.duke.edu/statsreview/continuous-probability-distributions/"
   ]
  },
  {
   "cell_type": "markdown",
   "metadata": {},
   "source": [
    "como usar no phyton:\n",
    "- **<font color= red> Na distribuição normal a média é o .scale</font>**\n",
    "- <font color= green>**from**</font> scipy <font color= green>**import**</font> stats\n",
    "- $P(X=x)$ = stats.norm.pmf(loc=μ,scale=σ)\n",
    "- $E(X)$ = stats.norm.mean(loc=μ,scale=σ) *<font color= darkcyan>                         #(Média ou esperança)</font>*\n",
    "- $V_{ar}(X)$ = stats.norm.var(loc=μ,scale=σ) *<font color= darkcyan>                     #(Variância)</font>*\n",
    "- $σ(X)$ = stats.norm.std(loc=μ,scale=σ) *<font color= darkcyan>                          #(Desvio Padrão)</font>*\n",
    "- *Percentile Point Function*(PPF) = stats.norm.ppf(loc=μ,scale=σ) *<font color= darkcyan>#A partir de uma porcentagem encontra o ponto que \"deixa essa area pra trás\"</font>*\n",
    "- *Cumulative Density Function*(CDF) = stats.norm.cdf(loc=μ,scale=σ) *<font color= darkcyan>#A partir de um ponto encontra qual o percentil/quantil que o gráfico \"deixa para trás\"</font>*\n",
    "- *Random Variables(RVS) = stats.expon.rvs(loc=μ,scale=σ)  *<font color= darkcyan> #if an array should be a 1-D array of observations of random variables,</font>* <font color= darkblue> observação unidimensional de variáveis aleatórias</font>"
   ]
  },
  {
   "cell_type": "markdown",
   "metadata": {},
   "source": [
    "https://docs.scipy.org/doc/scipy/reference/stats.html #Documentação do scipy.stats"
   ]
  },
  {
   "cell_type": "code",
   "execution_count": null,
   "metadata": {},
   "outputs": [],
   "source": []
  }
 ],
 "metadata": {
  "kernelspec": {
   "display_name": "Python 3",
   "language": "python",
   "name": "python3"
  },
  "language_info": {
   "codemirror_mode": {
    "name": "ipython",
    "version": 3
   },
   "file_extension": ".py",
   "mimetype": "text/x-python",
   "name": "python",
   "nbconvert_exporter": "python",
   "pygments_lexer": "ipython3",
   "version": "3.7.1"
  }
 },
 "nbformat": 4,
 "nbformat_minor": 2
}
