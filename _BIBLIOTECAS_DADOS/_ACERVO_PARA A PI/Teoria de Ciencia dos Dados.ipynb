{
 "cells": [
  {
   "cell_type": "markdown",
   "metadata": {},
   "source": [
    "# TEORIA DE CIÊNCIA DOS DADOS (até a aula 10)\n",
    "___"
   ]
  },
  {
   "cell_type": "markdown",
   "metadata": {},
   "source": [
    "## Bibliotecas"
   ]
  },
  {
   "cell_type": "code",
   "execution_count": 1,
   "metadata": {},
   "outputs": [],
   "source": [
    "%matplotlib inline\n",
    "import pandas as pd #importante para fazer analises de dataframes\n",
    "import numpy as np #importante para realizar os cálculos\n",
    "import matplotlib.pyplot as plt #importante para plotar os gráficos \n",
    "import itertools # importante para gerar todos os resultados possíveis!\n",
    "from scipy import stats\n",
    "from scipy.stats import uniform, expon, norm, probplot, percentileofscore\n",
    "from random import randint"
   ]
  },
  {
   "cell_type": "markdown",
   "metadata": {},
   "source": [
    "## Tipos de variáveis"
   ]
  },
  {
   "cell_type": "markdown",
   "metadata": {},
   "source": [
    "1. QUALITATIVAS/CATEGÓRICAS\n",
    "    * NOMINAIS - não possuem uma ordem natural entre seus elementos\n",
    "    * ORDINAIS - possuem uma ordem intrínseca aos seus elementos"
   ]
  },
  {
   "cell_type": "code",
   "execution_count": 4,
   "metadata": {},
   "outputs": [],
   "source": [
    "def Cria_Espaço_Amostral_Qualitativo(lista,n):\n",
    "    list_quali = []\n",
    "    i = 0\n",
    "    while i<=n:\n",
    "        choose = randint(0,len(lista)-1)\n",
    "        list_quali.append(lista[choose])\n",
    "        i+=1\n",
    "    return pd.Series(list_quali)"
   ]
  },
  {
   "cell_type": "code",
   "execution_count": 5,
   "metadata": {},
   "outputs": [],
   "source": [
    "quali_1 = [\"Gosto\", \"Não gosto\"]\n",
    "QL1 = Cria_Espaço_Amostral_Qualitativo(quali_1,1024)\n",
    "quali_2 = [\"Macho\", \"Femea\"]\n",
    "QL2 = Cria_Espaço_Amostral_Qualitativo(quali_2,1024)"
   ]
  },
  {
   "cell_type": "markdown",
   "metadata": {},
   "source": [
    "2. QUANTITATIVAS/NUMÉRICAS\n",
    "    * DISCRETAS - são contagens\n",
    "    * CONTINUAS - são mensurações"
   ]
  },
  {
   "cell_type": "code",
   "execution_count": 101,
   "metadata": {},
   "outputs": [],
   "source": [
    "def Cria_Espaço_Amostral_Quantitativo(n):\n",
    "    list_quanti = []\n",
    "    i = 0\n",
    "    while i<=(n-1):\n",
    "        choose = randint(0,n)\n",
    "        list_quanti.append(choose)\n",
    "        i+=1\n",
    "    i = 0\n",
    "    list_quanti.append(1.8*n)\n",
    "    list_quanti.append(1.5*n)\n",
    "    list_quanti.append(1.2*n)\n",
    "    return pd.Series(list_quanti)"
   ]
  },
  {
   "cell_type": "code",
   "execution_count": 102,
   "metadata": {},
   "outputs": [],
   "source": [
    "QT1 = Cria_Espaço_Amostral_Quantitativo(10000)"
   ]
  },
  {
   "cell_type": "markdown",
   "metadata": {},
   "source": [
    "## Recursos de análise/visualização"
   ]
  },
  {
   "cell_type": "code",
   "execution_count": 41,
   "metadata": {},
   "outputs": [
    {
     "data": {
      "text/html": [
       "<div>\n",
       "<style scoped>\n",
       "    .dataframe tbody tr th:only-of-type {\n",
       "        vertical-align: middle;\n",
       "    }\n",
       "\n",
       "    .dataframe tbody tr th {\n",
       "        vertical-align: top;\n",
       "    }\n",
       "\n",
       "    .dataframe thead th {\n",
       "        text-align: right;\n",
       "    }\n",
       "</style>\n",
       "<table border=\"1\" class=\"dataframe\">\n",
       "  <thead>\n",
       "    <tr style=\"text-align: right;\">\n",
       "      <th></th>\n",
       "      <th>Qualitativa</th>\n",
       "      <th>Quantitativa</th>\n",
       "    </tr>\n",
       "  </thead>\n",
       "  <tbody>\n",
       "    <tr>\n",
       "      <th></th>\n",
       "      <td>Gráficos de Setor</td>\n",
       "      <td>Histograma</td>\n",
       "    </tr>\n",
       "    <tr>\n",
       "      <th></th>\n",
       "      <td>Gráficos de Barra</td>\n",
       "      <td>Boxplot</td>\n",
       "    </tr>\n",
       "    <tr>\n",
       "      <th></th>\n",
       "      <td>Tabelas de Frequência</td>\n",
       "      <td>Tabelas de Frequência</td>\n",
       "    </tr>\n",
       "  </tbody>\n",
       "</table>\n",
       "</div>"
      ],
      "text/plain": [
       "            Qualitativa           Quantitativa\n",
       "      Gráficos de Setor             Histograma\n",
       "      Gráficos de Barra                Boxplot\n",
       "  Tabelas de Frequência  Tabelas de Frequência"
      ]
     },
     "execution_count": 41,
     "metadata": {},
     "output_type": "execute_result"
    }
   ],
   "source": [
    "dt = ({\n",
    "    'Qualitativa': ['Gráficos de Setor','Gráficos de Barra', 'Tabelas de Frequência'],\n",
    "    'Quantitativa': ['Histograma','Boxplot', 'Tabelas de Frequência']\n",
    "})\n",
    "pd.DataFrame(dt, index=('','',''))"
   ]
  },
  {
   "cell_type": "markdown",
   "metadata": {},
   "source": [
    "## Cruzamentos entre variáveis"
   ]
  },
  {
   "cell_type": "code",
   "execution_count": 42,
   "metadata": {},
   "outputs": [
    {
     "data": {
      "text/html": [
       "<div>\n",
       "<style scoped>\n",
       "    .dataframe tbody tr th:only-of-type {\n",
       "        vertical-align: middle;\n",
       "    }\n",
       "\n",
       "    .dataframe tbody tr th {\n",
       "        vertical-align: top;\n",
       "    }\n",
       "\n",
       "    .dataframe thead th {\n",
       "        text-align: right;\n",
       "    }\n",
       "</style>\n",
       "<table border=\"1\" class=\"dataframe\">\n",
       "  <thead>\n",
       "    <tr style=\"text-align: right;\">\n",
       "      <th></th>\n",
       "      <th>Qualitativa</th>\n",
       "      <th>Quantitativa</th>\n",
       "    </tr>\n",
       "  </thead>\n",
       "  <tbody>\n",
       "    <tr>\n",
       "      <th>Qualitativa</th>\n",
       "      <td>CrossTab</td>\n",
       "      <td>Grupos-Quali</td>\n",
       "    </tr>\n",
       "    <tr>\n",
       "      <th>Quantitativa</th>\n",
       "      <td>NaN</td>\n",
       "      <td>Scatter</td>\n",
       "    </tr>\n",
       "  </tbody>\n",
       "</table>\n",
       "</div>"
      ],
      "text/plain": [
       "             Qualitativa  Quantitativa\n",
       "Qualitativa     CrossTab  Grupos-Quali\n",
       "Quantitativa         NaN       Scatter"
      ]
     },
     "execution_count": 42,
     "metadata": {},
     "output_type": "execute_result"
    }
   ],
   "source": [
    "dt = ({\n",
    "    'Qualitativa': ['CrossTab','NaN'],\n",
    "    'Quantitativa': ['Grupos-Quali','Scatter']\n",
    "})\n",
    "pd.DataFrame(dt, index=('Qualitativa','Quantitativa'))"
   ]
  },
  {
   "cell_type": "markdown",
   "metadata": {},
   "source": [
    "## Gráficos de Barra (Qualitativos)\n",
    "* variável.value_counts(True).plot(kind='bar')"
   ]
  },
  {
   "cell_type": "code",
   "execution_count": 43,
   "metadata": {},
   "outputs": [
    {
     "data": {
      "image/png": "[encoded data removed]",
      "text/plain": [
       "<Figure size 432x288 with 1 Axes>"
      ]
     },
     "metadata": {
      "needs_background": "light"
     },
     "output_type": "display_data"
    }
   ],
   "source": [
    "QL1.value_counts(True).plot(kind='bar');"
   ]
  },
  {
   "cell_type": "markdown",
   "metadata": {},
   "source": [
    "## Gráficos de Setor (Qualitativos)\n",
    "* variável.value_counts(True).plot(kind='pie')"
   ]
  },
  {
   "cell_type": "code",
   "execution_count": 44,
   "metadata": {},
   "outputs": [
    {
     "data": {
      "image/png": "[encoded data removed]",
      "text/plain": [
       "<Figure size 432x288 with 1 Axes>"
      ]
     },
     "metadata": {},
     "output_type": "display_data"
    }
   ],
   "source": [
    "QL1.value_counts(True).plot(kind='pie');"
   ]
  },
  {
   "cell_type": "markdown",
   "metadata": {},
   "source": [
    "## Tabela Cruzada ou Crosstab (Qualitativa)\n",
    "* pd.crosstab(linha,coluna).plot(kind='bar',stacked=True)"
   ]
  },
  {
   "cell_type": "code",
   "execution_count": 45,
   "metadata": {},
   "outputs": [
    {
     "data": {
      "text/html": [
       "<div>\n",
       "<style scoped>\n",
       "    .dataframe tbody tr th:only-of-type {\n",
       "        vertical-align: middle;\n",
       "    }\n",
       "\n",
       "    .dataframe tbody tr th {\n",
       "        vertical-align: top;\n",
       "    }\n",
       "\n",
       "    .dataframe thead th {\n",
       "        text-align: right;\n",
       "    }\n",
       "</style>\n",
       "<table border=\"1\" class=\"dataframe\">\n",
       "  <thead>\n",
       "    <tr style=\"text-align: right;\">\n",
       "      <th></th>\n",
       "      <th>Tendência</th>\n",
       "      <th>Gênero</th>\n",
       "    </tr>\n",
       "  </thead>\n",
       "  <tbody>\n",
       "    <tr>\n",
       "      <th>0</th>\n",
       "      <td>Não gosto</td>\n",
       "      <td>Macho</td>\n",
       "    </tr>\n",
       "    <tr>\n",
       "      <th>1</th>\n",
       "      <td>Gosto</td>\n",
       "      <td>Femea</td>\n",
       "    </tr>\n",
       "    <tr>\n",
       "      <th>2</th>\n",
       "      <td>Gosto</td>\n",
       "      <td>Macho</td>\n",
       "    </tr>\n",
       "    <tr>\n",
       "      <th>3</th>\n",
       "      <td>Não gosto</td>\n",
       "      <td>Femea</td>\n",
       "    </tr>\n",
       "    <tr>\n",
       "      <th>4</th>\n",
       "      <td>Gosto</td>\n",
       "      <td>Macho</td>\n",
       "    </tr>\n",
       "  </tbody>\n",
       "</table>\n",
       "</div>"
      ],
      "text/plain": [
       "   Tendência Gênero\n",
       "0  Não gosto  Macho\n",
       "1      Gosto  Femea\n",
       "2      Gosto  Macho\n",
       "3  Não gosto  Femea\n",
       "4      Gosto  Macho"
      ]
     },
     "execution_count": 45,
     "metadata": {},
     "output_type": "execute_result"
    }
   ],
   "source": [
    "Tabela = pd.DataFrame([QL1,QL2],index=['Tendência','Gênero']).T\n",
    "Tabela.head(5)"
   ]
  },
  {
   "cell_type": "code",
   "execution_count": 46,
   "metadata": {},
   "outputs": [
    {
     "data": {
      "text/html": [
       "<div>\n",
       "<style scoped>\n",
       "    .dataframe tbody tr th:only-of-type {\n",
       "        vertical-align: middle;\n",
       "    }\n",
       "\n",
       "    .dataframe tbody tr th {\n",
       "        vertical-align: top;\n",
       "    }\n",
       "\n",
       "    .dataframe thead th {\n",
       "        text-align: right;\n",
       "    }\n",
       "</style>\n",
       "<table border=\"1\" class=\"dataframe\">\n",
       "  <thead>\n",
       "    <tr style=\"text-align: right;\">\n",
       "      <th>Gênero</th>\n",
       "      <th>Femea</th>\n",
       "      <th>Macho</th>\n",
       "    </tr>\n",
       "    <tr>\n",
       "      <th>Tendência</th>\n",
       "      <th></th>\n",
       "      <th></th>\n",
       "    </tr>\n",
       "  </thead>\n",
       "  <tbody>\n",
       "    <tr>\n",
       "      <th>Gosto</th>\n",
       "      <td>258</td>\n",
       "      <td>250</td>\n",
       "    </tr>\n",
       "    <tr>\n",
       "      <th>Não gosto</th>\n",
       "      <td>264</td>\n",
       "      <td>253</td>\n",
       "    </tr>\n",
       "  </tbody>\n",
       "</table>\n",
       "</div>"
      ],
      "text/plain": [
       "Gênero     Femea  Macho\n",
       "Tendência              \n",
       "Gosto        258    250\n",
       "Não gosto    264    253"
      ]
     },
     "execution_count": 46,
     "metadata": {},
     "output_type": "execute_result"
    }
   ],
   "source": [
    "pd.crosstab(Tabela.Tendência,Tabela.Gênero)"
   ]
  },
  {
   "cell_type": "code",
   "execution_count": 47,
   "metadata": {},
   "outputs": [
    {
     "data": {
      "image/png": "[encoded data removed]",
      "text/plain": [
       "<Figure size 432x288 with 1 Axes>"
      ]
     },
     "metadata": {
      "needs_background": "light"
     },
     "output_type": "display_data"
    }
   ],
   "source": [
    "pd.crosstab(Tabela.Tendência,Tabela.Gênero).plot(kind='bar',stacked=False);"
   ]
  },
  {
   "cell_type": "markdown",
   "metadata": {},
   "source": [
    "## Boxplot (Quantitativa)\n",
    "* variável.plot(kind=box)"
   ]
  },
  {
   "cell_type": "code",
   "execution_count": 103,
   "metadata": {},
   "outputs": [
    {
     "data": {
      "image/png": "[encoded data removed]",
      "text/plain": [
       "<Figure size 432x288 with 1 Axes>"
      ]
     },
     "metadata": {
      "needs_background": "light"
     },
     "output_type": "display_data"
    }
   ],
   "source": [
    "QT1.plot(kind='box');"
   ]
  },
  {
   "cell_type": "markdown",
   "metadata": {},
   "source": [
    " "
   ]
  }
 ],
 "metadata": {
  "kernelspec": {
   "display_name": "Python 3",
   "language": "python",
   "name": "python3"
  },
  "language_info": {
   "codemirror_mode": {
    "name": "ipython",
    "version": 3
   },
   "file_extension": ".py",
   "mimetype": "text/x-python",
   "name": "python",
   "nbconvert_exporter": "python",
   "pygments_lexer": "ipython3",
   "version": "3.7.3"
  }
 },
 "nbformat": 4,
 "nbformat_minor": 2
}
