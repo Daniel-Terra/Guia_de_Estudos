{
 "cells": [
  {
   "cell_type": "markdown",
   "metadata": {},
   "source": [
    "# ROTEIRO PARA A PROVA FINAL\n",
    "## Aulas 20 à 29"
   ]
  },
  {
   "cell_type": "markdown",
   "metadata": {},
   "source": [
    "AULA 20\n",
    "* **Combinação de Variáveis Aleatórias**\n",
    "\n",
    ">Esperança:\n",
    ">\n",
    ">$E(cX+d) = cE(X) + d$\n",
    ">\n",
    ">$E(aX + bY) = aE(X) + bE(Y)$\n",
    "\n",
    ">Variança:\n",
    ">\n",
    ">$V(aX +ou- bY) = a^2V(X) + b^2V(Y) +ou- 2abCov(X,Y)$\n",
    ">\n",
    ">$X$ & $Y$ Indep $\\implies Cov(X,Y)=0$\n",
    ">\n",
    ">$\\sigma^2 = V(X)$"
   ]
  },
  {
   "cell_type": "markdown",
   "metadata": {},
   "source": [
    "AULA 21\n",
    "* **Teorema do Limite Central**\n",
    "\n",
    "Para qualquer distribuição:\n",
    "$$n \\to \\infty \\implies \\bar{X}=\\frac{\\sum_{i=1}^n X_i}{n} \\sim Normal\\left(\\mu_X,\\frac{\\sigma_X^2}{n}\\right)$$"
   ]
  },
  {
   "cell_type": "markdown",
   "metadata": {},
   "source": [
    "AULA 23\n",
    "* **Teste de Hipóteses**"
   ]
  },
  {
   "cell_type": "markdown",
   "metadata": {},
   "source": [
    "<img src=TesteHip.png width=90%>\n",
    "\n",
    "\n",
    "I. Fixar a hipótese nula, $H_0$ a ser testada e a hipótese alternativa ($H_A$)\n",
    "\n",
    "II. Defina qual estatística será usada para julgar a hipótese $H_0$.\n",
    "\n",
    "* Estatística é calculada na **amostra**\n",
    "* A hipótese diz respeito à **população** de onde veio a amostra\n",
    "\n",
    "III. Decida qual $\\alpha$ utilizar e defina a Região Crítica (RC) segundo $H_0$.\n",
    "\n",
    "Sobre $\\alpha$: >> Falso Positivo >> Erro tipo 1\n",
    "\n",
    "* $\\alpha$ é a probabilidade de rejeitar $H_0$ mesmo que ela seja verdadeira.\n",
    "* $\\alpha$ é chamado de nível de significância.\n",
    "* Tipicamente $\\alpha$ é fixado em $1\\%$, $5\\%$ ou $10\\%$ \n",
    "* $1 - \\alpha$  é chamado de nível de confiança (ou coeficiente de confiança).\n",
    "\n",
    "IV. Calcule a estatística da amostra.\n",
    "\n",
    "V. Se o valor da estatística estiver na região crítica, rejeite $H_0$; caso contrário, **não rejeite** (nunca aceite) $H_0$.\n",
    "* Primeiro $H_0: \\mu = \\mu_0$ e $H_1: \\mu \\neq \\mu_0$\n",
    "* Segundo $H_0: \\mu = \\mu_0$ e $H_1: \\mu > \\mu_0$\n",
    "\n",
    "<img src=regcrit.png width=90%>\n",
    "\n",
    "VI. Valor-$p$ é a probabilidade de obter um resultado **igual ao da amostra ou mais extremo**, sob $H_0$ verdadeira.\n",
    "\n",
    "\n",
    "|       &nbsp;                        | $H_0$ é Verdadeiro       | $H_0$ é Falso                   |\n",
    "|:---|:-----|:-----|\n",
    "| Rejeito $H_0$     | * Erro tipo 1           | * Decisão Correta               |\n",
    "|       &nbsp;            | * Falso Positivo        |     &nbsp;                                    |\n",
    "|         &nbsp;          | * Probabilidade $\\alpha$ |     &nbsp;                                    |\n",
    "| Não Rejeito $H_0$ | * Decisão Correta        | * Erro tipo 2                  |\n",
    "|       &nbsp;                   |   &nbsp;                              | * Falso Negativo               |\n",
    "|       &nbsp;                 |            &nbsp;                     | * Probabilidade $\\beta$     |\n",
    "|        &nbsp;            \n",
    "\n"
   ]
  },
  {
   "cell_type": "code",
   "execution_count": 6,
   "metadata": {},
   "outputs": [],
   "source": [
    "from scipy.stats import norm, t\n",
    "import numpy as np\n",
    "import matplotlib.pyplot as plt"
   ]
  },
  {
   "cell_type": "markdown",
   "metadata": {},
   "source": [
    "H0 --> mi <= 540\n",
    "\n",
    "H1 --> mi < 540"
   ]
  },
  {
   "cell_type": "code",
   "execution_count": 14,
   "metadata": {},
   "outputs": [
    {
     "name": "stdout",
     "output_type": "stream",
     "text": [
      "\n",
      "Desvio Padrão 5.164\n",
      "\n",
      "Mi zero 540\n",
      "\n",
      "X critico 548.494\n",
      "\n",
      "Média da amostra 551.333\n",
      "\n",
      "Rejeito H0 porque a média observada é maior do que o x_critico\n",
      "\n",
      "É o valor de alpha mínimo para garantir que H0 seja Falso\n",
      "\n",
      "Valor p 0.014\n"
     ]
    }
   ],
   "source": [
    "dp  = 20/15**.5\n",
    "print('\\nDesvio Padrão {:.3f}'.format(dp))\n",
    "\n",
    "mi0 = 540\n",
    "print('\\nMi zero {}'.format(mi0))\n",
    "\n",
    "xc = norm.ppf(.95, loc=mi0, scale=dp)\n",
    "print('\\nX critico {:.3f}'.format(xc))\n",
    "\n",
    "observado = (553, 552, 567, 579, 550, 541, 537, 553, \n",
    "             552, 546, 538, 553, 581, 539, 529)\n",
    "\n",
    "x_barra = np.mean(observado)\n",
    "\n",
    "print('\\nMédia da amostra {:.3f}'.format(x_barra))\n",
    "\n",
    "print('\\nRejeito H0 porque a média observada é maior do que o x_critico')\n",
    "\n",
    "print('\\nÉ o valor de alpha mínimo para garantir que H0 seja Falso')\n",
    "\n",
    "valor_p = 1 - norm.cdf(x_barra, loc=mi0, scale=dp)\n",
    "\n",
    "print('\\nValor p {:.3f}'.format(valor_p))"
   ]
  },
  {
   "cell_type": "markdown",
   "metadata": {},
   "source": [
    "H0 --> mi <= 0.82\n",
    "\n",
    "H1 --> mi < 0.82"
   ]
  },
  {
   "cell_type": "code",
   "execution_count": 16,
   "metadata": {},
   "outputs": [
    {
     "name": "stdout",
     "output_type": "stream",
     "text": [
      "\n",
      "S 0.024557099642611345\n",
      "\n",
      "Média da amostra 0.83724\n",
      "\n",
      "H0: mi<=0.82, H1: mi>0.82, unicaudal para a direita\n",
      "\n",
      "t observado 2.718978782525142\n",
      "\n",
      "t critico 1.7613101357748562\n",
      "\n",
      "Rejeita H0 logo que tobs>tcrit\n",
      "\n",
      "valor p 0.008313368681510891\n"
     ]
    }
   ],
   "source": [
    "observado = (0.8411,  0.8191,  0.8182, 0.8125, 0.8580, 0.8532, 0.8483, \n",
    "             0.8276, 0.8042, 0.8730, 0.8282, 0.8359, 0.8750, 0.7983, 0.8660)\n",
    "graus_lib = 15-1\n",
    "S = np.std(observado,ddof=1)\n",
    "print('\\nS {}'.format(S))\n",
    "x_barra = np.mean(observado)\n",
    "print('\\nMédia da amostra {}'.format(x_barra))\n",
    "print('\\nH0: mi<=0.82, H1: mi>0.82, unicaudal para a direita')\n",
    "tobs = (x_barra-.82)/(S/15**.5)\n",
    "print('\\nt observado {}'.format(tobs))\n",
    "tcrit = t.ppf(.95,df=graus_lib)\n",
    "print('\\nt critico {}'.format(tcrit))\n",
    "print('\\nRejeita H0 logo que tobs>tcrit')\n",
    "valor_p = 1-t.cdf(x_barra, loc=.82, scale=(S/15**.5), df=graus_lib)\n",
    "print('\\nvalor p {}'.format(valor_p))"
   ]
  },
  {
   "cell_type": "code",
   "execution_count": null,
   "metadata": {},
   "outputs": [],
   "source": []
  }
 ],
 "metadata": {
  "kernelspec": {
   "display_name": "Python 3",
   "language": "python",
   "name": "python3"
  },
  "language_info": {
   "codemirror_mode": {
    "name": "ipython",
    "version": 3
   },
   "file_extension": ".py",
   "mimetype": "text/x-python",
   "name": "python",
   "nbconvert_exporter": "python",
   "pygments_lexer": "ipython3",
   "version": "3.7.3"
  }
 },
 "nbformat": 4,
 "nbformat_minor": 2
}
